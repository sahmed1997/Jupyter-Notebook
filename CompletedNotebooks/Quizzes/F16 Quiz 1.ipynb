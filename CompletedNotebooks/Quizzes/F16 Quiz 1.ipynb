{
 "cells": [
  {
   "cell_type": "markdown",
   "metadata": {},
   "source": [
    "# Fall 2016 COMP 194 FY Course\n",
    "## Quiz 1\n",
    "Libby Shoop\n",
    "\n",
    "This is the sole work of: Salman Ahmed\n",
    "\n",
    "## Problem 1\n",
    "Write a function called **wordOrdinal** that takes one parameter: an integer number between 0 and 12, including 12. This function will return a string that represents the English ordinal word value of the number. For example:\n",
    "\n",
    "    wordOrdinal(0) should return 'zeroth'\n",
    "    wordOrdinal(1) should return 'first'\n",
    "    wordordinal(2) should return 'second'\n",
    "    ...\n",
    "    wordOrdinal(12) should return 'twelfth'\n",
    "\n",
    "**Next, include in a function called test** a series of tests where you try each value valid value in the **wordOrdinal** function and print out the return value (use a for loop for this, going through 0 through 12). \n",
    "\n",
    "**Next, write a brief function named main()** that will take an input integer from the user by asking them to enter any number from 0 through 12. Using what the user entered, print out its textual ordinal value.\n",
    "\n",
    "**Next, add functionality to main()** such that you continually ask the user for a number unless they enter -1, in which case you would stop.\n",
    "\n",
    "The main section of the code is provided for you below. You write the two functions.\n",
    "#### Note\n",
    "While you could use an if statement for this task, there is an easier and better solution.\n",
    "\n",
    "### Extra credit\n",
    "\n",
    "1. Try adding some checking to wordOrdinal() such that the words 'not available' are returned if the argument sent to this function is greater than 12.\n"
   ]
  },
  {
   "cell_type": "markdown",
   "metadata": {},
   "source": [
    "## Libby's comments\n",
    "<div class=\"alert alert-success\">\n",
    " <p>Good use of a list in wordOrdinal().</p>\n",
    " <p>Great work!</p>\n",
    " <p></p>\n",
    " <p>Total: 15/15</p>\n",
    "</div>"
   ]
  },
  {
   "cell_type": "code",
   "execution_count": 2,
   "metadata": {
    "collapsed": false
   },
   "outputs": [
    {
     "name": "stdout",
     "output_type": "stream",
     "text": [
      "zeroth\n",
      "first\n",
      "second\n",
      "third\n",
      "fourth\n",
      "fifth\n",
      "sixth\n",
      "seventh\n",
      "eighth\n",
      "ninth\n",
      "tenth\n",
      "eleventh\n",
      "twelfth\n",
      "Enter any number from 0 through 12. Enter -1 to stop: 1\n",
      "Textual Ordinal Value:  first\n",
      "Enter any number from 0 through 12. Enter -1 to stop: 2\n",
      "Textual Ordinal Value:  second\n",
      "Enter any number from 0 through 12. Enter -1 to stop: -1\n",
      "Textual Ordinal Value:  not available\n"
     ]
    }
   ],
   "source": [
    "def wordOrdinal(num):\n",
    "    \"\"\"Takes integer number and returns English ordinal value if number is between 0 and 12\"\"\"\n",
    "    ordVal =['zeroth','first','second','third','fourth','fifth','sixth','seventh','eighth','ninth','tenth','eleventh','twelfth']\n",
    "    if num<0 or num>12:\n",
    "        return 'not available'\n",
    "    else:\n",
    "        return ordVal[num]\n",
    "    \n",
    "def test():\n",
    "    \"\"\"Conducts a series of tests trying each valid value in the wordOrdinal function and prints out the return value \"\"\"\n",
    "    for a in range(0,13):\n",
    "        print(wordOrdinal(a))\n",
    "        \n",
    "def main():\n",
    "    \"\"\"Takes an input integer from the user by asking them to enter any number from 0 through 12.\n",
    "      Using what the user entered, prints out its textual ordinal value. \"\"\"\n",
    "    num = 0\n",
    "    while num!=-1:\n",
    "        num = int(input(\"Enter any number from 0 through 12. Enter -1 to stop: \"))\n",
    "        print(\"Textual Ordinal Value: \",wordOrdinal(num))\n",
    "\n",
    "if __name__ == \"__main__\":\n",
    "    test()\n",
    "    main()"
   ]
  },
  {
   "cell_type": "markdown",
   "metadata": {},
   "source": [
    "## Problem 2\n",
    "\n",
    "You are working for a company that makes a web site that looks like this:\n",
    "\n",
    "![World Taximeter - Rome](WorldTaxiMeter.png \"World Taximeter Site\")\n",
    "\n",
    "They want to add Rome to the site, which is new for them. Your job is to write a function that will calculate the fare for an official taxi in Rome, whose rates are as follows (in euros, $\\unicode{0x20AC}$):\n",
    "\n",
    "- There is an initial fixed fee from point of departure of $\\unicode{0x20AC}$3.00 \n",
    "- Each kilometer (km) or portion thereof is charged $\\unicode{0x20AC}$1.10\n",
    "\n",
    "The distance between two destinations is a function that already exists-- you can assume that your function, called **calcRomeFare**, will take in a distance in km and calculate the fare in euros ($\\unicode{0x20AC}$).\n",
    "\n",
    "## To Do:\n",
    "\n",
    "Write the calcRomeFare() function, which will take in the number of kilometers and return a fare in euros ($\\unicode{0x20AC}$).\n",
    "\n",
    "Write a main() function that will take the user input in kilometers and print out the fare.\n",
    "\n",
    "Execute main as given in the code cell.\n",
    "\n",
    "As an example, the distance from Leonardo Da Vinci airport to the Colosseum in Rome is 30.93 km. Given the rules above, he fare should be $\\unicode{0x20AC}$34.0.\n",
    "\n",
    "#### Helpful documentation\n",
    "The [docmentation for the Python Math Library](https://docs.python.org/3/library/math.html) can give you information about rounding to the next highest km.\n",
    "\n"
   ]
  },
  {
   "cell_type": "markdown",
   "metadata": {},
   "source": [
    "## Libby's comments\n",
    "<div class=\"alert alert-success\">\n",
    " <p></p>\n",
    " <p>While your solution is correct, it is better to put the use of math.ceil() inside of the calcRomeFare() function.</p>\n",
    " <p>Gret work otherwise!</p>\n",
    " <p>Total: 10/10</p>\n",
    "</div>"
   ]
  },
  {
   "cell_type": "code",
   "execution_count": null,
   "metadata": {
    "collapsed": false
   },
   "outputs": [],
   "source": [
    "import math\n",
    "\n",
    "def calcRomeFare(km,a,b,c):\n",
    "    \"\"\"Takes in the number of kilometers and returns the Rome taxi fare.\"\"\"\n",
    "    fare = 3.0 + km*1.1\n",
    "    if(a>1):\n",
    "        fare = fare + (a-1)*1\n",
    "    fare = fare + b*1\n",
    "    if (c==1):\n",
    "        fare = fare + 0.50\n",
    "    print(\"The fair is €\",fare)\n",
    "    \n",
    "def main():\n",
    "    \"\"\"Asks a user for the number of kilometers and prints out the fare\n",
    "       in euros in a nicely formatted message.\"\"\"\n",
    "    dist = math.ceil(float(input(\"Enter the distance travelled, in kilometers: \")))\n",
    "    luggage = int(input(\"Enter the number of luggages measuring more than 35x25x50\"))\n",
    "    passenger = int(input(\"Enter the number of passengers more than 4: \"))\n",
    "    rc = int(input(\"Enter 1 if this was a radio controlled taxi and 0 if it was not\"))\n",
    "    calcRomeFare(dist,luggage,passenger,rc)\n",
    "    \n",
    "    \n",
    "###########################\n",
    "if __name__ == \"__main__\":\n",
    "    main()"
   ]
  },
  {
   "cell_type": "markdown",
   "metadata": {},
   "source": [
    "### Extra Credit\n",
    "Only do this when you have completed what is asked for. Do any parts you wish to try.\n",
    "\n",
    "1. The real official taxis in Rome also have these rules (taken from [1]):\n",
    "\n",
    "    - The first piece of luggage is free; each subsequent piece of luggage measuring more than 35x25x50 cm costs € 1.00\n",
    "    - The fifth passenger upwards in taxis with a capacity for more than 4 passengers: € 1.00\n",
    "    - The fixed fee for calling a radio-controlled taxi is € 3.50 \n",
    "\n",
    "    Implement any of these by enhancing your main to ask for more information.\n",
    "\n",
    "2. The real official taxis in Rome follow these additional rules (taken from [1]):\n",
    "\n",
    "    SINGLE PROGRESSIVE TAXIMETER FARE\n",
    "\n",
    "    - T1: at speeds > 20 km/h 1.10 €/km\n",
    "    - T2: at speeds > 20 km/h 1.30 €/km\n",
    "    - T3: at speeds > 20 km/h 1.60 €/km\n",
    "\n",
    "    The taximeter shifts from T1 to T2 when the initial fixed fare on the taximeter has clocked up a further € 11.00, from that time onwards the T2 fare is applied until a further € 13.00 have been clocked up; from then on the third fare, T3, is applied until the end of the journey.\n",
    "\n",
    "Add the logic to handle this tiered fare system, and test with a distance long enough to include the three fares. *Assume that the speed of the taxi will be > 20 km/hr.*\n",
    "\n",
    "[1]: http://www.comune.roma.it/PCR/resources/cms/documents/tariffario_taxi_luglio_2012.pdf"
   ]
  },
  {
   "cell_type": "code",
   "execution_count": null,
   "metadata": {
    "collapsed": false
   },
   "outputs": [],
   "source": []
  }
 ],
 "metadata": {
  "anaconda-cloud": {},
  "kernelspec": {
   "display_name": "Python [Root]",
   "language": "python",
   "name": "Python [Root]"
  },
  "language_info": {
   "codemirror_mode": {
    "name": "ipython",
    "version": 3
   },
   "file_extension": ".py",
   "mimetype": "text/x-python",
   "name": "python",
   "nbconvert_exporter": "python",
   "pygments_lexer": "ipython3",
   "version": "3.5.2"
  }
 },
 "nbformat": 4,
 "nbformat_minor": 0
}
