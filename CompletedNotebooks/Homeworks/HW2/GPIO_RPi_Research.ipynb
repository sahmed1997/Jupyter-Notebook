{
 "cells": [
  {
   "cell_type": "markdown",
   "metadata": {},
   "source": [
    "## Homework 2\n",
    "### Fall 2016 COMP 194 FY Course\n",
    "\n",
    "### Let's explore!\n",
    "\n",
    "Your task for this part of homework 2 is to do some research. We are getting started using the general purpose input-output (GPIO) pins on the Raspberry Pi. Please conduct some research on the kinds of projects that you might be able to do using the GPIO. Take some time to discover what might be possible and what might demonstrate how small computers with these IO capabilities can be used in the \"Internet of Things\" (IoT).\n",
    "\n",
    "**No coding is to be done here.** Simply conduct some research and write down what you have found and what you might be interested in studying more or using a project. Write you answer in the mardown cell below."
   ]
  },
  {
   "cell_type": "markdown",
   "metadata": {},
   "source": [
    "The Raspberry Pi is a small affordable power house. Despite being designed for education purposes, its small size and compatibility with GPIO make it desirable for some pretty interesting projects.\n",
    "\n",
    "The Raspberry Pi can be connected with pressure sensors and a camera. Owing to its light weight, it can be sent flying to the higher layers of the atmosphere with a gas balloon. This small computer with its IO capabilities can then relay live aerial photographs to the ground.\n",
    "\n",
    "This computer can be used to make a small portable music instrument. It’s IO compatibilty can make use of touch sensors and speakers, resulting in an instrument. The sensor will signal the pi when it is touched, and the pi will then play beats through the connected speaker. Owing to its small size, the pi can be enclosed in a small portable wooden box to amplify its loudness.\n",
    "\n",
    "The Raspberry Pi can be connected with a compatible vacuum cleaner (as its mind) on one hand and a wireless analogue controller on the other. The user can then control the vacuum cleaner’s movement using a joystick as though they were playing a fun game.\n",
    "\n",
    "I would be very interested in a robotics project  wherein, we create a Raspberry Pi connected moveable robot (controlled by a joystick) that plays music, controlled by the same wireless controller."
   ]
  }
 ],
 "metadata": {
  "anaconda-cloud": {},
  "kernelspec": {
   "display_name": "Python 2",
   "language": "python",
   "name": "python2"
  },
  "language_info": {
   "codemirror_mode": {
    "name": "ipython",
    "version": 2
   },
   "file_extension": ".py",
   "mimetype": "text/x-python",
   "name": "python",
   "nbconvert_exporter": "python",
   "pygments_lexer": "ipython2",
   "version": "2.7.9"
  }
 },
 "nbformat": 4,
 "nbformat_minor": 0
}
