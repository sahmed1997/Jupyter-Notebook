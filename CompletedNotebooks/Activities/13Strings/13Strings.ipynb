{
 "cells": [
  {
   "cell_type": "markdown",
   "metadata": {},
   "source": [
    "# The String Datatype\n",
    "\n",
    "## Overview\n",
    "\n",
    "\n",
    "There are many tools for manipulating strings.  This activity will cover the string methods, as we have already spent some time with operators and functions for strings (e.g., selection, slicing, +, *, len).\n",
    "\n",
    "\n",
    "**Key idea**:  Strings are *immutable*, you cannot modify an existing string, but you can construct a modified copy of the string. Python provides a set of very useful tools for manipulating strings. This activity will explore a few of these tools, including string methods, concatenation and star-repetition, and looping over strings.\n",
    "\n",
    "\n",
    "## String Methods\n",
    "\n",
    "Your reading had a partial list of string methods. I recommend looking at [the Python Documentation for String Methods](https://docs.python.org/3.4/library/stdtypes.html#text-sequence-type-str) for the complete list. I've broken down the list of (some) string methods by category below. Define the example strings below, and then try each of the string methods in the examples to see what it does.\n",
    "\n",
    "\n"
   ]
  },
  {
   "cell_type": "markdown",
   "metadata": {},
   "source": [
    "## Looping through strings\n",
    "\n",
    "You can loop through strings using a very simple for loop, like this:\n",
    "\n",
    "    for c in s:\n",
    "        #do something with c\n",
    "\n",
    "where s is a string and c is each character of the stringer\n",
    "\n",
    "**Try this**: given any input string, write a function called countOnes() that will count how many characters it has that are a '1' (one) and return the count. Write a test function that uses an assert to try it on a string that contains ones and a string that does not."
   ]
  },
  {
   "cell_type": "code",
   "execution_count": 3,
   "metadata": {
    "collapsed": false
   },
   "outputs": [],
   "source": [
    "def countOnes(aString):\n",
    "    count = 0\n",
    "    for s in aString:\n",
    "        if s == '1':\n",
    "            count = count + 1\n",
    "    return count        \n",
    "            \n",
    "def test():\n",
    "    string1 = \"Maca1es1er\"\n",
    "    string2 = \"Macalester\"\n",
    "    count1 = countOnes(string1)\n",
    "    assert count1 == 2, 'Test --> FAIL'\n",
    "    count2 = countOnes(string2)\n",
    "    assert count2 == 0, 'Test --> FAIL'\n",
    "\n",
    "test()    "
   ]
  },
  {
   "cell_type": "markdown",
   "metadata": {},
   "source": [
    "## Capitalization-related\n",
    "\n",
    "\n",
    "The methods here are used both to check on the capitalization of a string, and to change its capitalization. None of these take any inputs, but they do return values.\n",
    "\n",
    "\n",
    "| Method | Description |\n",
    "|--------|-------------|\n",
    "|islower |Returns True if all characters in its string are lowercase and False otherwise |\n",
    "|isupper | Returns True if all characters in its string are uppercase, and False otherwise |\n",
    "|istitle | Returns True if the string is a title with every first character capitalized and no others, and it returns False otherwise \n",
    "|capitalize | Returns a copy of the string with its first character capitalized and the rest lowercased |\n",
    "|lower | Returns a copy of the string with all characters lowercased|\n",
    "|upper | Returns a copy of the string with all characters uppercased |\n",
    "|title | Returns a copy of the string with the first character of each word capitalized and all the rests lowercased |\n",
    "|swapcase | Returns a copy of the string with the case of each letter swapped: lower to upper and upper to lower |\n",
    "\n",
    "Here are some examples that show how to call these methods, assuming the four strings defined in the cell below. Try some of them out.\n",
    "\n",
    "\n",
    "    print(s1.islower(), s3.islower())\n",
    "    True False\n",
    "\n",
    "    print(s4.isupper(), s2.isupper())\n",
    "    False True\n",
    "\n",
    "    print(s1.istitle(), s4.istitle())\n",
    "    False True\n",
    "\n",
    "    news1 = s1.capitalize()\n",
    "    news2 = s2.capitalize()\n",
    "    print(news1, news2)\n",
    "    Banana Frog\n",
    "\n",
    "    s3L = s3.lower()\n",
    "    s4L = s4.lower()\n",
    "    print(s3L, s4L)\n",
    "    glimmer the man from mars\n",
    "\n",
    "    s4Alt = s4L.title()\n",
    "    s1Alt = s1.title()\n",
    "    print(s4Alt, s1Alt)\n",
    "    The Man From Mars Banana\n",
    "\n",
    "    s4Swap = s4.swapcase()\n",
    "    s2Swap = s2.swapcase()\n",
    "    print(s4Swap, s2Swap)\n",
    "    tHE mAN fROM mARS frog\n"
   ]
  },
  {
   "cell_type": "code",
   "execution_count": 4,
   "metadata": {
    "collapsed": false
   },
   "outputs": [
    {
     "name": "stdout",
     "output_type": "stream",
     "text": [
      "True False\n",
      "False True\n",
      "False True\n",
      "Banana Frog\n",
      "glimmer the man from mars\n",
      "The Man From Mars Banana\n",
      "tHE mAN fROM mARS frog\n"
     ]
    }
   ],
   "source": [
    "s1 = \"banana\"\n",
    "s2 = \"FROG\"\n",
    "s3 = \"Glimmer\"\n",
    "s4 = \"The Man From Mars\"\n",
    "\n",
    "print(s1.islower(), s3.islower())\n",
    "print(s4.isupper(), s2.isupper())\n",
    "print(s1.istitle(), s4.istitle())\n",
    "\n",
    "news1 = s1.capitalize()\n",
    "news2 = s2.capitalize()\n",
    "print(news1, news2)\n",
    "\n",
    "s3L = s3.lower()\n",
    "s4L = s4.lower()\n",
    "print(s3L, s4L)\n",
    "\n",
    "s4Alt = s4L.title()\n",
    "s1Alt = s1.title()\n",
    "print(s4Alt, s1Alt)\n",
    "\n",
    "s4Swap = s4.swapcase()\n",
    "s2Swap = s2.swapcase()\n",
    "print(s4Swap, s2Swap)\n"
   ]
  },
  {
   "cell_type": "markdown",
   "metadata": {},
   "source": [
    "## Breaking strings into pieces\n",
    "\n",
    "\n",
    "Often when we have a piece of text, we want to break it up into words or lines. Or if we have other structured data like CSV files, we might want to split it by commas or tabs. These methods let you separate a string into parts.\n",
    "\n",
    "\n",
    "\n",
    "\n",
    "|Method | Description |\n",
    "|-------|-------------|\n",
    "| split | Takes an optional input, a character. Returns a list of strings, created by splitting up its string. By default it splits on whitespace, but with an input it splits on that character.|\n",
    "| splitlines |Similar to split but it only splits on newline, returning a list of strings for each line |\n",
    "\n",
    "\n",
    "Here are some examples that show how to call these methods, assuming the four strings defined above, given again in the cell below, and some new ones for you to enter.\n",
    "\n",
    "    s4.split()\n",
    "    [\"The\", \"Man\", \"From\", \"Mars\"]\n",
    "\n",
    "    s5 = \"red,green,blue\"\n",
    "    s5.split(\",\")\n",
    "    [\"red\", \"green\", \"blue\"]\n",
    "\n",
    "    text = \"\"\"ABC\n",
    "    DEF\n",
    "    GHIJK\"\"\"\n",
    "    text.splitlines()\n",
    "    [\"ABC\", \"DEF\", \"GHIJK\"]\n"
   ]
  },
  {
   "cell_type": "code",
   "execution_count": 7,
   "metadata": {
    "collapsed": false
   },
   "outputs": [
    {
     "name": "stdout",
     "output_type": "stream",
     "text": [
      "['The', 'Man', 'From', 'Mars']\n",
      "['red', 'green', 'blue']\n",
      "['ABC', 'DEF', 'GHIJK']\n"
     ]
    }
   ],
   "source": [
    "s4 = \"The Man From Mars\"\n",
    "print(s4.split())\n",
    "s5 = \"red,green,blue\"\n",
    "print(s5.split(\",\"))\n",
    "text = \"\"\"ABC\n",
    "DEF\n",
    "GHIJK\"\"\"\n",
    "print(text.splitlines())"
   ]
  },
  {
   "cell_type": "markdown",
   "metadata": {},
   "source": [
    "## Many more manipulations\n",
    "\n",
    "There are quite a few more things that can be done with strings. If you are interested, check out the [the Python Documentation for String Methods](https://docs.python.org/3.4/library/stdtypes.html#text-sequence-type-str) and try a few here."
   ]
  },
  {
   "cell_type": "code",
   "execution_count": null,
   "metadata": {
    "collapsed": true
   },
   "outputs": [],
   "source": []
  }
 ],
 "metadata": {
  "anaconda-cloud": {},
  "kernelspec": {
   "display_name": "Python 3",
   "language": "python",
   "name": "python3"
  },
  "language_info": {
   "codemirror_mode": {
    "name": "ipython",
    "version": 3
   },
   "file_extension": ".py",
   "mimetype": "text/x-python",
   "name": "python",
   "nbconvert_exporter": "python",
   "pygments_lexer": "ipython3",
   "version": "3.4.2"
  }
 },
 "nbformat": 4,
 "nbformat_minor": 0
}
