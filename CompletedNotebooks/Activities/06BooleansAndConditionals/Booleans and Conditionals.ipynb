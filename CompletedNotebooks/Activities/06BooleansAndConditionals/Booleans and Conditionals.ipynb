{
 "cells": [
  {
   "cell_type": "markdown",
   "metadata": {},
   "source": [
    "# Booleans and Conditionals\n",
    "\n",
    "## Overview\n",
    "\n",
    "This activity will practice with the Boolean data type, and conditional statements that let the computer choose an action.\n",
    "\n",
    "## Boolean data type\n",
    "\n",
    "The boolean data type is a very special one in most programming languages. A boolean value is either True or False. These are constants in Python. Try typing them into the Python shell, without any quotation marks. Capitalization counts!\n",
    "\n",
    "We use booleans to ask questions about data in a program, and to write programs that can choose among alternative actions.\n",
    "\n",
    "## Boolean expressions\n",
    "\n",
    "We can ask questions using functions that return true/false answers, or with a set of boolean comparison operators. These form boolean *expressions* that evaluate to True or False. The most common boolean operators are shown in the table below.\n",
    "\n",
    "|expression|meaning|\n",
    "|----------|-------|\n",
    "|A == B|\"is equal to\" takes two expressions, A and B, and evaluates to True if the value of A is equal to the value of B|\n",
    "|A != B|“Is not equal to” takes two expressions, A and B, and evaluates to True if the value of A is not equal to the value of B|\n",
    "|A <= B|“Is less than or equal to” takes two expressions, A and B, and evaluates to True if the value of A is less than or equal to the value of B|\n",
    "|A < B|“Is less than” takes two expressions, A and B, and evaluates to True if the value of A is strictly less than the value of B|\n",
    "|A >= B|“Is greater than or equal to” takes two expressions, A and B, and evaluates to True if the value of A is greater than or equal to the value of B|\n",
    "|A > B|“Is greater than” takes two expressions, A and B, and evaluates to True if the value of A is greater than the value of B|\n",
    "|A in B|“is in” or “is an element of” takes two expressions, A and B, and evaluates to True if the value of A occurs in the value of B. For strings this asks if A is a substring of B. For lists, this asks if A is an element of B|\n",
    "    "
   ]
  },
  {
   "cell_type": "markdown",
   "metadata": {},
   "source": [
    "### Try some expressions\n",
    "\n",
    "    x <= y\n",
    "    x + 5 > y\n",
    "    x % 2 == 0\n",
    "    s > 'bodwaddle'\n",
    "    len(s) == 7\n",
    "    'e' in s\n",
    "    'c' in s\n",
    "    'boo' in s\n",
    "\n",
    "For each of the expressions above, type it into the cell below, after the declaration of the variables. \n",
    "\n",
    "**DO THIS:** For each boolean expression, add a comment before each one that describes what question is being asked, and what the answer should be.\n",
    "\n",
    "Then execute it to observe what it returns. The first one is already provided. To keep an expression but not execute it, you can put a hash tag at the front to signify that the line is commented. So as you add each new one, comment out the previous one and re-run the cell.\n",
    "\n"
   ]
  },
  {
   "cell_type": "code",
   "execution_count": 2,
   "metadata": {
    "collapsed": false
   },
   "outputs": [
    {
     "data": {
      "text/plain": [
       "True"
      ]
     },
     "execution_count": 2,
     "metadata": {},
     "output_type": "execute_result"
    }
   ],
   "source": [
    "# first we’ll assign three variables to values\n",
    "x = 25\n",
    "y = 30\n",
    "s = 'boolean'\n",
    "# now we’ll ask questions about them\n",
    "\n",
    "# Evaluates to True if x is less than or equal to y.\n",
    "# Since 25 is less than 30, this will be True\n",
    "x <= y\n"
   ]
  },
  {
   "cell_type": "markdown",
   "metadata": {},
   "source": [
    "## Boolean operators\n",
    "\n",
    "We can also put boolean expressions like the ones above together using the *boolean operators*: **and**, **or**, and **not**. The table below describes how these operators work.\n",
    "\n",
    "|expression|meaning|\n",
    "|----------|-------|\n",
    "|A and B|Evaluates to True if both the value of A and the value of B are True, otherwise it evaluates to False|\n",
    "|A or B|Evaluates to True if at least one of A or B evaluates to True, otherwise it evaluates to False|\n",
    "|not A|Evaluates to True if the value of A is False, and to False if the value of A is True|\n",
    "\n",
    "**DO THIS:** Given the data values set up in the code below, which of the following are True, and which False? Explain why each one produces the value it does by adding a comment in the code. As with the previous task, try each one individually and observe whether your explanation holds up. \n",
    "\n",
    "    (x % 5 == 0) and (y % 5 == 0)\n",
    "    (s[0] == 'b') or (len(s) >= 10)\n",
    "    'i' not in s\n",
    "    not (s[1] == 'a')\n",
    "    (x in nums) and not (y in nums)\n",
    "    (x >= 15) and (x <= 50)\n",
    "\n",
    "Recall that the percent sign means to take the remainder of the first operand divided by the second operand. Also recall that the square bracket notation extracts single characters from a string based on position, where the first character is at position zero. \n",
    "\n",
    "\n"
   ]
  },
  {
   "cell_type": "code",
   "execution_count": 5,
   "metadata": {
    "collapsed": false
   },
   "outputs": [
    {
     "name": "stdout",
     "output_type": "stream",
     "text": [
      "True\n",
      "True\n"
     ]
    }
   ],
   "source": [
    "# first we’ll assign three variables to values\n",
    "x = 25\n",
    "y = 30\n",
    "s = 'boolean'\n",
    "nums = [15, 20, 25, 30]\n",
    "print((x >= 15) and (x <= 50))\n",
    "print('i' not in s)\n",
    "# now we’ll ask questions about them\n",
    "\n"
   ]
  },
  {
   "cell_type": "markdown",
   "metadata": {},
   "source": [
    "## Conditional statements\n",
    "\n",
    "We often use boolean expressions in conditional statements, more commonly called \"if statements\", to cause the computer to choose one or another sets of actions. The general form of an if statement is shown below. An if must have at least the first part, and has elif parts and an else optionally. Note that all the indented code options must be indented exactly the same amount.\n",
    "\n",
    "    if boolean-expression:\n",
    "        code-to-perform\n",
    "    elif boolean-expression:\n",
    "        code-to-perform\n",
    "    . . .\n",
    "\n",
    "    else:  # note, no booleans expression with else\n",
    "        code-to-perform\n",
    "\n",
    "Python evaluates each boolean expression in an `if` statement in order, stopping when it finds an expression that evaluates to True. It then performs the code associated with the true test, and then skips the rest of the if.\n",
    "\n"
   ]
  },
  {
   "cell_type": "markdown",
   "metadata": {},
   "source": [
    "### Try this to hand in: \n",
    "\n",
    "Look at the example below. Before running it, try to figure out what it might print, given different values for x and y. \n",
    "\n",
    "After running it, choose different values for x and y to cause different parts of the if statement to run. Explain your choices by completing this section of markdown code.\n",
    "\n",
    "#### Choices (you complete these)\n",
    "\n",
    "Value for x and y that makes A evaluate to true:\n",
    "\n",
    "Value for x and y that makes B evaluate to true:\n",
    "\n",
    "Value for x and y that makes C evaluate to true:"
   ]
  },
  {
   "cell_type": "code",
   "execution_count": null,
   "metadata": {
    "collapsed": false
   },
   "outputs": [],
   "source": [
    "x = int(input(\"Enter a value for x: \"))\n",
    "y = int(input(\"Enter a value for y: \"))\n",
    "if x > y:     #A\n",
    "  print(x, y)\n",
    "elif y > x:   #B\n",
    "  print(y, x)\n",
    "else:         #C\n",
    "  print(x)"
   ]
  },
  {
   "cell_type": "markdown",
   "metadata": {},
   "source": [
    "## Application: Range Limiting\n",
    "\n",
    "### Try this to hand in: \n",
    "Create a function called rangeLimit that has one input parameter, `num`. When rangeLimit is called, it should be passed a number as input. If the number is between 1 and 10, rangeLimit should return the number itself. If num is less than 1, the function should return 1, and if num is greater than 10, then the function should return 10. This way, it converts any number given to it into the range from 1 to 10. Here are some examples showing what the function should do for some sample inputs:\n",
    "\n",
    "    rangeLimit(8)\n",
    "\n",
    "8\n",
    "\n",
    "    print(rangeLimit(-1), rangeLimit(5), rangeLimit(50)\n",
    "    \n",
    "1 5 10\n"
   ]
  },
  {
   "cell_type": "code",
   "execution_count": 9,
   "metadata": {
    "collapsed": false
   },
   "outputs": [
    {
     "name": "stdout",
     "output_type": "stream",
     "text": [
      "Enter number: -9\n"
     ]
    },
    {
     "data": {
      "text/plain": [
       "1"
      ]
     },
     "execution_count": 9,
     "metadata": {},
     "output_type": "execute_result"
    }
   ],
   "source": [
    "def rangeLimit(num):\n",
    "    if num>10:\n",
    "        return 10\n",
    "    elif num<1:\n",
    "        return 1\n",
    "    else:\n",
    "        return num\n",
    "    \n",
    "rangeLimit(int(input(\"Enter number: \")))"
   ]
  },
  {
   "cell_type": "code",
   "execution_count": null,
   "metadata": {
    "collapsed": true
   },
   "outputs": [],
   "source": []
  },
  {
   "cell_type": "markdown",
   "metadata": {},
   "source": [
    "## Application: Tele-operated Turtle\n",
    "\n",
    "### Try this to hand in: \n",
    "\n",
    "“Tele-operation” of robots means controlling a robot from a distance. This is used for entertainment and education: some science museums have robots you can connect to over the Internet and operate. It is also used for hazardous situations and environments: bomb squads, search and rescue, deep-sea exploration, space exploration.\n",
    "\n",
    "Using the turtle module, create a program to tele-operate the turtle.\n",
    "\n",
    "The main function of this program, teleTurtle, is below. This function creates a window and a turtle in it. It then repeats n times, asking the user for input, and then calling a helper function, doMove, which performs the user's movement.\n"
   ]
  },
  {
   "cell_type": "code",
   "execution_count": 3,
   "metadata": {
    "collapsed": true
   },
   "outputs": [],
   "source": [
    "import turtle\n",
    "\n",
    "def teleTurtle(n):\n",
    "  win = turtle.Screen()\n",
    "  teleT = turtle.Turtle()\n",
    "  for i in range(n):\n",
    "    move = input(\"Enter next move: \")\n",
    "    doMove(teleT, move)"
   ]
  },
  {
   "cell_type": "markdown",
   "metadata": {},
   "source": [
    "### Complete it!\n",
    "\n",
    "If you run the cell above, you can complete your own work in the cell below and then run it (this notebok will remember everything that has been run).\n",
    "\n",
    "Define the function, doMove, that takes two inputs. When doMove is called, it should make the turtle move depending on the value of the input string.\n",
    "\n",
    "If the string is 'f' then the turtle should move forward 15 steps. If the string is 'b' then the robot should move backward 15 steps. If the string is 'r' then the robot should turn 90 degrees to the right , and if the string is 'l' (ell, not one) then the robot should turn 90 degrees to the left. If the input string is not one of these four strings, then the function should print a warning message and do nothing.\n"
   ]
  },
  {
   "cell_type": "code",
   "execution_count": 1,
   "metadata": {
    "collapsed": true
   },
   "outputs": [],
   "source": [
    "def doMove(turt, str):\n",
    "    if str=='f':\n",
    "        turt.forward(15)\n",
    "    elif str=='b':\n",
    "        turt.backward(15)\n",
    "    elif str=='r':\n",
    "        turt.right(90)\n",
    "    elif str=='l':\n",
    "        turt.left(90)\n",
    "    else:\n",
    "        print(\"INVALID\")\n",
    "    "
   ]
  },
  {
   "cell_type": "markdown",
   "metadata": {},
   "source": [
    "### Now try it"
   ]
  },
  {
   "cell_type": "code",
   "execution_count": 4,
   "metadata": {
    "collapsed": false
   },
   "outputs": [
    {
     "name": "stdout",
     "output_type": "stream",
     "text": [
      "Enter next move: f\n"
     ]
    }
   ],
   "source": [
    "teleTurtle(1)"
   ]
  },
  {
   "cell_type": "markdown",
   "metadata": {},
   "source": [
    "## Optional Challenge Activities (if you are ahead of the class)\n",
    "\n",
    "Complete one or more of these as you have time.\n",
    "\n",
    "### Middle value\n",
    "Create a function middleValue that has three parameter variables: it should be passed three numbers when it is called. The function should use if statements, including nesting one if inside another, to determine which of the three numbers is the middle value. That value should be returned as the value of the function.\n",
    "\n",
    "\n",
    "    middleValue(5, 2, 77)\n",
    "5\n",
    "\n",
    "    middleValue(-10, 50, 57)\n",
    "50\n",
    "\n",
    "    middleValue(-1, -6, -3)\n",
    "-3\n",
    "\n",
    "\n",
    "### Letter Grades\n",
    "Letter grades in the US are commonly assigned according to “deciles:” a score that is greater than or equal to 90% is given an A, a score that is greater than or equal to 80%, but less than 90% is given a B, a score similarly between 70% and 80% is a C, a score similarly between 60% and 70% is a D, and anything below 60% is an F.\n",
    "\n",
    "Write a function percentToLetter that has one input parameter. It should be passed a percentage (which may be a floating-point number) as its input, and it should return a string containing the corresponding letter grade.\n"
   ]
  },
  {
   "cell_type": "code",
   "execution_count": 6,
   "metadata": {
    "collapsed": false
   },
   "outputs": [
    {
     "name": "stdout",
     "output_type": "stream",
     "text": [
      "Enter percent: 80.5\n",
      "B\n"
     ]
    }
   ],
   "source": [
    "def percentToLetter(per):\n",
    "    str = ''\n",
    "    if per>=90:\n",
    "        str='A'\n",
    "    elif per>=80 and per<90:\n",
    "        str='B'\n",
    "    elif per>=70 and per<80:\n",
    "        str='C'\n",
    "    elif per>=60 and per<70:\n",
    "        str='D'\n",
    "    elif per>=0 and per<60:\n",
    "        str='F'\n",
    "    else:\n",
    "        str='INVALID'\n",
    "    return str\n",
    "\n",
    "print(percentToLetter(float(input(\"Enter percent: \"))))        "
   ]
  }
 ],
 "metadata": {
  "anaconda-cloud": {},
  "kernelspec": {
   "display_name": "Python [Root]",
   "language": "python",
   "name": "Python [Root]"
  },
  "language_info": {
   "codemirror_mode": {
    "name": "ipython",
    "version": 3
   },
   "file_extension": ".py",
   "mimetype": "text/x-python",
   "name": "python",
   "nbconvert_exporter": "python",
   "pygments_lexer": "ipython3",
   "version": "3.5.2"
  }
 },
 "nbformat": 4,
 "nbformat_minor": 0
}
