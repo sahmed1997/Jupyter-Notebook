{
 "cells": [
  {
   "cell_type": "markdown",
   "metadata": {},
   "source": [
    "# Sunfounder Kit Lesson 15: Joystick"
   ]
  },
  {
   "cell_type": "markdown",
   "metadata": {},
   "source": [
    "## The Setup\n",
    "\n",
    "You will need the PCF8591 analog to digital converter for this lesson. Wire the modules as shown below.\n",
    "\n",
    "**Note: Do no trust the colors of the wires, as it is very likely that `vcc` (usually red) and `gnd` (usually black) are switched in the actual analog to digital converter**\n",
    "\n",
    "<img src=files/15_JoyStick_PS2_bb.png width=650>"
   ]
  },
  {
   "cell_type": "markdown",
   "metadata": {},
   "source": [
    "## The Code\n",
    "\n",
    "**Note that you need to have a folder one level up from the one this notebook is in called lib.** This folder has Python module, or library code for the Analog to digital converter (ADC).\n",
    "\n",
    "### Coding Style\n",
    "Look at lines 27 - 29 (escape (Esc), the the L key for line numbers). This is an example of a really long if statement line of code broken into three lines by placing the conditional inside of parentheses, which are typically not needed. Another way of breaking a long line into multiple lines is to end a line that is to be continued on the next line with a \\\\. You could experiment with this if you wish- remove the () and add \\ to the end of lines 27 and 28.\n",
    "\n",
    "**A solution you should not use** is to keep the line really long. The  [Python Style Guide](https://www.python.org/dev/peps/pep-0008/) recommend that no line of code is over 79 characters. 80 characters is a general rule of thumb used for most programming languages.\n",
    "\n",
    "Please have a look at the [Python Style Guide](https://www.python.org/dev/peps/pep-0008/) for more coding tips."
   ]
  },
  {
   "cell_type": "code",
   "execution_count": null,
   "metadata": {
    "collapsed": false
   },
   "outputs": [],
   "source": [
    "import sys\n",
    "sys.path.append('../lib')   #looking for a directory called lib one level up\n",
    "import PCF8591 as ADC \n",
    "import time\n",
    "\n",
    "def setup():\n",
    "        ADC.setup(0x48) # Setup PCF8591\n",
    "        global state\n",
    "\n",
    "def direction():        #get joystick result\n",
    "        state = ['home', 'up', 'down', 'left', 'right', 'pressed']\n",
    "        i = 0\n",
    "\n",
    "        if ADC.read(0) <= 5:\n",
    "                i = 1           #up\n",
    "        if ADC.read(0) >= 250:\n",
    "                i = 2           #down\n",
    "\n",
    "        if ADC.read(1) >= 250:\n",
    "                i = 3           #left\n",
    "        if ADC.read(1) <= 5:\n",
    "                i = 4           #right\n",
    "\n",
    "        if ADC.read(2) < 100:\n",
    "                i = 5           # Button pressed\n",
    "\n",
    "        if ADC.read(0) - 125 < 15 and ADC.read(0) - 125 > -15   and \\\n",
    "        ADC.read(1) - 125 < 15 and ADC.read(1) - 125 > -15 and \\\n",
    "        ADC.read(2) == 255:\n",
    "                i = 0\n",
    "        \n",
    "        return state[i]\n",
    "\n",
    "def loop():\n",
    "        status = ''\n",
    "        while True:\n",
    "                tmp = direction()\n",
    "                if tmp != None and tmp != status:  #what is this for ? \n",
    "                #Answer: This implies a change in status (when analogue is moved); only then will the function print\n",
    "                        print tmp\n",
    "                        status = tmp\n",
    "                time.sleep(0.002)        \n",
    "\n",
    "def destroy():\n",
    "        pass"
   ]
  },
  {
   "cell_type": "code",
   "execution_count": null,
   "metadata": {
    "collapsed": false
   },
   "outputs": [],
   "source": [
    "if __name__ == '__main__':              # Program start from here\n",
    "        setup()\n",
    "        try:\n",
    "                loop()\n",
    "        except KeyboardInterrupt:       # When 'Ctrl+C' is pressed, the child program destroy() will be  executed.\n",
    "                destroy()"
   ]
  },
  {
   "cell_type": "markdown",
   "metadata": {
    "collapsed": true
   },
   "source": [
    "## Try the joystick\n",
    "\n",
    "After you run each code cell, try moving the joystick an pushing it down. Observe what gets printed.\n",
    "\n",
    "Study the code- explain exactly what it is doing. Especially consider line 38. Try to document here what is happening- describe it in English.\n"
   ]
  }
 ],
 "metadata": {
  "kernelspec": {
   "display_name": "Python 2",
   "language": "python",
   "name": "python2"
  },
  "language_info": {
   "codemirror_mode": {
    "name": "ipython",
    "version": 2
   },
   "file_extension": ".py",
   "mimetype": "text/x-python",
   "name": "python",
   "nbconvert_exporter": "python",
   "pygments_lexer": "ipython2",
   "version": "2.7.9"
  }
 },
 "nbformat": 4,
 "nbformat_minor": 0
}
