{
 "cells": [
  {
   "cell_type": "markdown",
   "metadata": {},
   "source": [
    "# Basic Python Data Types\n",
    "\n",
    "## Overview\n",
    "\n",
    "This activity will introduce one of the true \"core concepts\" of computer science: the idea of data types. Every piece of data in a computer is stored as a collection of binary bits: ones and zeros. In order for the computer to manipulate data correctly, it is crucial that it keep track of what type the data is, so that it can correctly interpret the binary bits. When programming, it is also essential to pay close attention to data types.\n",
    "\n",
    "In this activity, you will look at several simple built-in types of data in Python. First you will learn about numbers, which may be separated into integers and floating-point (real) numbers. Then you will explore strings, which allow us to represent text data. And finally you will learn about lists, which store collections of other data.\n",
    "\n",
    "## Numbers\n",
    "\n",
    "Python has two main kinds of numbers: integers, and real, or floating point, numbers. (There are other kinds of numbers, as well, but we probably won't use any of them). Below is a table showing basic numeric operations. Many more common mathematical operations are in the math module, which you can add in when you need it.\n",
    "\n",
    "<table>\n",
    "  <tr>\n",
    "    <td>Example</td>\n",
    "    <td>Meaning</td>\n",
    "  </tr>\n",
    "  <tr>\n",
    "    <td>3 + 12</td>\n",
    "    <td>Adds two numbers, returning the result </td>\n",
    "  </tr>\n",
    "  <tr>\n",
    "    <td>45 - 19</td>\n",
    "    <td>Subtracts second from first, returning the result</td>\n",
    "  </tr>\n",
    "  <tr>\n",
    "    <td>5 \\* 100</td>\n",
    "    <td>Multiplies two numbers, returning the result </td>\n",
    "  </tr>\n",
    "  <tr>\n",
    "    <td>55.0 / 2</td>\n",
    "    <td>Divides first by the second, returning the result as a float </td>\n",
    "  </tr>\n",
    "  <tr>\n",
    "    <td>55 // 2</td>\n",
    "    <td>Divides first by the second, returning the quotient portion</td>\n",
    "  </tr>\n",
    "  <tr>\n",
    "    <td>30 % 4</td>\n",
    "    <td>Computes the remainder of first divided by second</td>\n",
    "  </tr>\n",
    "  <tr>\n",
    "    <td>2 \\*\\* 3</td>\n",
    "    <td>Raises first to the power of the second </td>\n",
    "  </tr>\n",
    "  <tr>\n",
    "    <td>max(1, 5, 3)</td>\n",
    "    <td>A function that returns the largest of values passed to it</td>\n",
    "  </tr>\n",
    "  <tr>\n",
    "    <td>min(1, 5, 3)</td>\n",
    "    <td>A function that returns the smallest of values passed to it</td>\n",
    "  </tr>\n",
    "  <tr>\n",
    "    <td>abs(-3)</td>\n",
    "    <td>A function that returns the absolute value of its argument</td>\n",
    "  </tr>\n",
    "  <tr>\n",
    "    <td>round(3.2)</td>\n",
    "    <td>A function that rounds its argument</td>\n",
    "  </tr>\n",
    "  <tr>\n",
    "    <td>int(3.2)</td>\n",
    "    <td>Converts its argument to an integer</td>\n",
    "  </tr>\n",
    "  <tr>\n",
    "    <td>float(2)</td>\n",
    "    <td>Converts its argument to a floating-point number</td>\n",
    "  </tr>\n",
    "</table>\n",
    "\n",
    "Integers and floats are treated as different, though related, kinds of data. This is why we have explicit operators to convert from one type to the other. \n",
    "\n",
    "**Try this to hand in:** Try the examples in the following table, one at a time, in the Python cell below. Pay particular attention to the *type* of each resulting value. Fill in the table- next to each each expression list the value returned and the type of that value. The first one is completed as an example."
   ]
  },
  {
   "cell_type": "markdown",
   "metadata": {},
   "source": [
    "|**Expression**|**Value Returned**|**Data Type of result**|**Reason**               |\n",
    "|--------------|------------------|-----------------------|-------------------------|\n",
    "|4 + 9         | 13| integer | both operands are integers |\n",
    "|4 + 9.0       | 13.0 | float  | 4 is an integer while 9.0 is float point variable |\n",
    "|3.2 - 1.1     | 2.1 | float | both operands are float oint variables  |\n",
    "|3 - 1         | 2 | integer | both operands are integers |\n",
    "|3 - 1.0       | 2.0 | float | 3 is an integer while 1.0 is float point variable |\n",
    "|4 * 5         | 20 | integer | both operands are integers |\n",
    "|4 * 6.5       | 26.0 | float | 6.5 is float point variable |\n",
    "|25 / 3        | 8.333334 | float | / returns float point variable |\n",
    "|25 / 3.0      | 8.333334 | float | / returns float point variable |\n",
    "|25 // 3       | 8 | integer | both operands are integers |\n",
    "|25.0 // 3.0   | 8.333334 | float | both operands are float point variables |\n",
    "|25 % 3        | 1 | integer | % returns integer |\n",
    "|40 % 11.0     | 7.0 | float | 11.0 is float point variable |\n",
    "|3 \\*\\* 2      | 8 | float | both operands are integers  |\n",
    "|2.0 \\*\\* 3    | 8.0 | float | 2.0 is a float point variable |"
   ]
  },
  {
   "cell_type": "code",
   "execution_count": 2,
   "metadata": {
    "collapsed": false
   },
   "outputs": [
    {
     "data": {
      "text/plain": [
       "8"
      ]
     },
     "execution_count": 2,
     "metadata": {},
     "output_type": "execute_result"
    }
   ],
   "source": [
    "2 ** 3 "
   ]
  },
  {
   "cell_type": "markdown",
   "metadata": {},
   "source": [
    "The default rule for the type of an arithmetic expression is: *If both operands are integers, then the result is an integer. If at least one operand is a floating-point number, then the result is a float, too.*\n",
    "\n",
    "The single-slash, decimal division operator is an exception: it always returns a float.\n",
    "\n",
    "There are three division-related operators: decimal division (/), quotient division (//), and remainder (%). Decimal division gives the normal calculator result for dividing two numbers. Quotient division returns only the integer part, the quotient of the division. It cuts off any part after the decimal point (another way of thinking about it is that it takes the \"floor,\" it rounds down to the nearest integer less than the value). The remainder operator gives the remainder of the division of its two operands.\n",
    "\n",
    "**Try this to hand in:** Suppose you have a banana that is 15.5 cm long. If you had 5100 such bananas, how many meters would they cover, laid end to end? Write a new script for this problemin the cell below. Start with a Python statement to define variables bananaLength and a variable numBananas, and then create a statement that computes how long they would be, in meters. Make sure to print the final result."
   ]
  },
  {
   "cell_type": "code",
   "execution_count": 5,
   "metadata": {
    "collapsed": false
   },
   "outputs": [
    {
     "name": "stdout",
     "output_type": "stream",
     "text": [
      "Total length =  790.5 m\n"
     ]
    }
   ],
   "source": [
    "bananaLength = 15.5\n",
    "numBananas = 5100\n",
    "print(\"Total length = \",((bananaLength*numBananas)/100), \"m\")"
   ]
  },
  {
   "cell_type": "markdown",
   "metadata": {},
   "source": [
    "## Strings\n",
    "\n",
    "Strings are collections of characters, and characters are keyboard symbols; each character represents a single keyboard key. For now, focus on strings as simply text.\n",
    "\n",
    "Strings and characters are written the same in Python. A character is just a string of length 1. Strings are written with quotes before and after them. You can either use double-quotes or single-quotes, as the examples below show.\n",
    "\n",
    "Try typing the following into the Python cell below. **Note:** cutting and pasting may not work correctly, often single and double quotes are converted to symbols that are not plain text, and you will have to replace them before they can be entered into Python.\n",
    "\n",
    "    'Hi there'\n",
    "\n",
    "    \"Hi there\"\n",
    "\n",
    "    \"I contain an apostrophe, don't I?\"\n",
    "\n",
    "    'I was told, \"Double quotes go inside single quotes!\"'\n",
    "\n",
    "    s = 'hi mom'"
   ]
  },
  {
   "cell_type": "code",
   "execution_count": 9,
   "metadata": {
    "collapsed": false
   },
   "outputs": [
    {
     "data": {
      "text/plain": [
       "'Hi there'"
      ]
     },
     "execution_count": 9,
     "metadata": {},
     "output_type": "execute_result"
    }
   ],
   "source": [
    "'Hi there'"
   ]
  },
  {
   "cell_type": "markdown",
   "metadata": {},
   "source": [
    " You can also make triple-quoted strings; only triple-quoted strings can have multiple lines in them. Here is one:"
   ]
  },
  {
   "cell_type": "code",
   "execution_count": 7,
   "metadata": {
    "collapsed": false
   },
   "outputs": [
    {
     "name": "stdout",
     "output_type": "stream",
     "text": [
      "As I was going to St. Ives,\n",
      "I met a man with seven wives.\n",
      "Each wife had seven sacks,\n",
      "Each sack had seven cats,\n",
      "Each cat had seven kits.\n",
      "Kits, cats, sacks, and wives:\n",
      "How many were going to St. Ives?hell yeah\n",
      "As I was g\n"
     ]
    }
   ],
   "source": [
    "longstr = \"\"\"As I was going to St. Ives,\n",
    "I met a man with seven wives.\n",
    "Each wife had seven sacks,\n",
    "Each sack had seven cats,\n",
    "Each cat had seven kits.\n",
    "Kits, cats, sacks, and wives:\n",
    "How many were going to St. Ives?\"\"\"\n",
    "print(longstr+'hell yeah')\n",
    "print(longstr[0:10])"
   ]
  },
  {
   "cell_type": "markdown",
   "metadata": {},
   "source": [
    "The following are basic string operations. The len function computes the length of a string. The plus operator *concatenates* two strings: sticks them together for form one string. The times operator takes a string and a number, and concatenates the string with itself number times. The in operator checks if one string appears exactly in another string. And the square bracket operator is used to access individual characters or, with the colon operator, to access a substring of the whole string.\n",
    "\n",
    "Type each of the following into the interactive shell, and note what it does.\n",
    "\n",
    "<table>\n",
    "  <tr>\n",
    "    <td>Example</td>\n",
    "    <td>Meaning</td>\n",
    "  </tr>\n",
    "  <tr>\n",
    "    <td>len('foo')</td>\n",
    "    <td>Returns the number of characters in its argument </td>\n",
    "  </tr>\n",
    "  <tr>\n",
    "    <td>'foo' + 'bar'</td>\n",
    "    <td>Concatenates the two strings together</td>\n",
    "  </tr>\n",
    "  <tr>\n",
    "    <td>'foo' * 3</td>\n",
    "    <td>Concatenates the string with itself the number of times given </td>\n",
    "  </tr>\n",
    "  <tr>\n",
    "    <td>'mom' in s</td>\n",
    "    <td>Checks if first string occurs in second string </td>\n",
    "  </tr>\n",
    "  <tr>\n",
    "    <td> s[3]</td>\n",
    "    <td>Returns the character at the given position, zero-based</td>\n",
    "  </tr>\n",
    "  <tr>\n",
    "    <td> s[3:5]</td>\n",
    "    <td>Returns a substring starting at 3 and ending before 5</td>\n",
    "  </tr>\n",
    "</table>\n",
    "\n",
    "\n",
    "What value would you get back if you typed each of the the following in the cell **above**, after we have already assigned longstr? Try to predict the result before typing it in and running it.\n",
    "\n",
    "    len(longstr)\n",
    "\n",
    "    'kits' in longstr\n",
    "\n",
    "    longstr[36:39]\n",
    "\n",
    "**Try this to hand in:** Create a script in the following cell that starts with:\n",
    "\n",
    "    sentence = 'We must go to the movies on Saturday'\n",
    "\n",
    "Use the substring operator from above (the last example) and experiment until you find the right starting and ending values to pull out the word 'Saturday'. Define a variable day to hold the value of the substring operation. Then, print the value of day concatenated with itself four times."
   ]
  },
  {
   "cell_type": "code",
   "execution_count": 11,
   "metadata": {
    "collapsed": false
   },
   "outputs": [
    {
     "name": "stdout",
     "output_type": "stream",
     "text": [
      "SaturdaySaturdaySaturdaySaturday\n"
     ]
    }
   ],
   "source": [
    "sentence = 'We must go to the movies on Saturday'\n",
    "day = sentence[28:36]\n",
    "print(day*4)"
   ]
  },
  {
   "cell_type": "markdown",
   "metadata": {},
   "source": [
    "## Lists\n",
    "\n",
    "A list is a collection of data. You write a list by surrounding the data with square brackets. Both lists and strings share some of the same operations; see the examples below.\n",
    "\n",
    "Try typing the following into the Python cell below, running it after adding each line. You can also try adding lines to print any of the variables, such as lst3 and last4, to see what they contain.\n",
    "\n",
    "    lst1 = [5, 1, 9, 2]\n",
    "\n",
    "    lst2 = ['Nauru', 'Kiribati', 'Vanuatu']\n",
    "\n",
    "    len(lst1)\n",
    "\n",
    "    len(lst2)\n",
    "\n",
    "    lst3 = lst1 + lst2\n",
    "\n",
    "    lst4 = ['a', 'b'] * 5\n",
    "\n",
    "    'Kiribati' in lst2\n",
    "\n",
    "    'Fiji' in lst2\n",
    "\n",
    "    lst1[0]\n",
    "\n",
    "    lst2[2]\n",
    "\n",
    "    lst1[2:3]\n",
    "    "
   ]
  },
  {
   "cell_type": "code",
   "execution_count": 16,
   "metadata": {
    "collapsed": false
   },
   "outputs": [
    {
     "name": "stdout",
     "output_type": "stream",
     "text": [
      "4\n",
      "3\n",
      "True\n",
      "Vanuatu\n",
      "[9]\n"
     ]
    }
   ],
   "source": [
    "lst1 = [5, 1, 9, 2]\n",
    "\n",
    "lst2 = ['Nauru', 'Kiribati', 'Vanuatu']\n",
    "\n",
    "print(len(lst1))\n",
    "\n",
    "print(len(lst2))\n",
    "\n",
    "lst3 = lst1 + lst2\n",
    "\n",
    "lst4 = ['a', 'b'] * 5\n",
    "\n",
    "print('Kiribati' in lst2)\n",
    "\n",
    "'Fiji' in lst2\n",
    "\n",
    "lst1[0]\n",
    "\n",
    "print(lst2[2])\n",
    "\n",
    "print(lst1[2:3])"
   ]
  },
  {
   "cell_type": "markdown",
   "metadata": {},
   "source": [
    "**Try this to hand in:** Create a script below that has contains a list of 6 numbers. Add up the numbers at positions 0, 2, and 4, and store them in a variable. In another variable, store the sum of the numbers at positions 1, 3, and 5. Print the two numbers."
   ]
  },
  {
   "cell_type": "code",
   "execution_count": 18,
   "metadata": {
    "collapsed": false
   },
   "outputs": [
    {
     "name": "stdout",
     "output_type": "stream",
     "text": [
      "22\n",
      "10\n"
     ]
    }
   ],
   "source": [
    "lst = [5, 1, 9, 2, 8, 7]\n",
    "sum1 = lst[0] + lst[2] + lst[4]\n",
    "sum2 = lst[1] + lst[3] + lst[5]\n",
    "print(sum1)\n",
    "print(sum2)"
   ]
  },
  {
   "cell_type": "markdown",
   "metadata": {},
   "source": [
    "## Optional Challenge Question for Those Who Get This Far\n",
    "\n",
    "Consider the problem of making change: figuring out how many bills and coins to give someone to make a specific amount of money. This example asks you to make a script to solve this problem. You might start by discussing this question with a neighbor, and developing together your ideas for how to solve the problem, in English or pseudocode. The key idea to making change is to take the quotient and remainder of an amount by the next monetary unit. For example, given \\$7.32, represented as 732 cents. If we take the quotient of 732 by 100 (for one dollar bills), then we get 7, and the remainder of 732 divided by 100 is 32. Then take the part left over, and repeat for the next coin: quarters. Divide 32 by 25, and get 1, and the remainder is 7 cents. Continue in this manner.\n",
    "\n",
    "Now, see if you can write a Python script, a series of expressions or statements in Python, that do this calculation and print out the results. Open a new editor window, or add this to an existing file. Define a variable, money, that contains a money amount, in cents (like 732 for $7.32, for example).\n",
    "\n",
    "Then, create a series of Python statements that calculate and print how to give change for the money value, in dollars, quarters, dimes, nickels, and pennies. The best solution will use integer division and the remainder operation.\n",
    "\n",
    "Below is an example of what might print when this script is run:\n",
    "\n",
    "Making change for 732 cents:\n",
    "\n",
    " Dollars: 7\n",
    "\n",
    " Quarters: 1\n",
    "\n",
    " Dimes: 0\n",
    "\n",
    " Nickels: 1\n",
    "\n",
    " Pennies: 2\n",
    "\n",
    "Once you get the script working for 732, change the value of money and test your script on other values to be sure it works more generally."
   ]
  },
  {
   "cell_type": "code",
   "execution_count": 32,
   "metadata": {
    "collapsed": false
   },
   "outputs": [
    {
     "name": "stdout",
     "output_type": "stream",
     "text": [
      "Enter money amount in dollars: 7.66\n",
      "Making change for  766 cents:\n",
      "Dollars\t:  7\n",
      "Quarters:  2\n",
      "Dimes \t:  1\n",
      "Nickels\t:  1\n",
      "Pennies\t:  6\n"
     ]
    }
   ],
   "source": [
    "money2 = float(input(\"Enter money amount in dollars: \"))\n",
    "money1 = money2 * 100\n",
    "money = money1\n",
    "dollars = money//100\n",
    "money = money%100\n",
    "quarters = money//25\n",
    "money = money%25\n",
    "dimes = money//10\n",
    "money = money%10\n",
    "nickels = money//5\n",
    "pennies = money%25\n",
    "print('Making change for ',int(money1), 'cents:')\n",
    "print('Dollars\\t: ',int(dollars))\n",
    "print('Quarters: ',int(quarters))\n",
    "print('Dimes \\t: ',int(dimes))\n",
    "print('Nickels\\t: ',int(nickels))\n",
    "print('Pennies\\t: ',int(pennies))\n",
    "\n",
    "    \n"
   ]
  }
 ],
 "metadata": {
  "kernelspec": {
   "display_name": "Python 3",
   "language": "python",
   "name": "python3"
  },
  "language_info": {
   "codemirror_mode": {
    "name": "ipython",
    "version": 3
   },
   "file_extension": ".py",
   "mimetype": "text/x-python",
   "name": "python",
   "nbconvert_exporter": "python",
   "pygments_lexer": "ipython3",
   "version": "3.4.2"
  }
 },
 "nbformat": 4,
 "nbformat_minor": 0
}
