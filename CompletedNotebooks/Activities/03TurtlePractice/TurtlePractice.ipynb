{
 "cells": [
  {
   "cell_type": "markdown",
   "metadata": {},
   "source": [
    "# Turtle Practice\n",
    "\n",
    "## Overview\n",
    "\n",
    "This activity will have you practice writing scripts to create and control virtual creatures (robots, agents) called turtles. Turtle graphics originated with the programming language Logo, which was designed to be taught to children. In the modern day, turtles remain a useful conceptual tool for drawing graphics, particularly fractals, and are used in multi-agent simulations.\n",
    "\n",
    "The idea is that each turtle has a pen tied to its tail. You tell it where to move, and whether to hold its tail up or down. If the tail is up, then it moves without drawing a line; if the tail is down, then it leaves a line behind it. This idea has been elaborated to allow the turtles to draw filled polygons, among other things.\n",
    "\n",
    "Our goals for this activity are:\n",
    "\n",
    "* To introduce the concepts of modules, objects, and methods in Python\n",
    "\n",
    "* To practice with script writing in Python, using a tool that provides immediate visual feedback\n",
    "\n",
    "* To learn the for loop and range functions and their use.\n",
    "\n",
    "**To hand in:** Try each code cell as you go.You will eventually copy your completed notebook back from your machine to the cloud storage completed directory.\n",
    "\n",
    "## The Turtle Module\n",
    "\n",
    "Python has a set of tools that it loads automatically whenever it runs. However, there are many other tools that are not always needed. Python allows you to load them when you need them. These tools are organized into files called *modules*. We can tell Python to load the functions, constants, and objects in a module using the import command.\n",
    "\n",
    "We put the following into our script cell 'file' of code, at the top, like this:"
   ]
  },
  {
   "cell_type": "code",
   "execution_count": null,
   "metadata": {
    "collapsed": true
   },
   "outputs": [],
   "source": [
    "import turtle"
   ]
  },
  {
   "cell_type": "markdown",
   "metadata": {},
   "source": [
    "**Note: Always put all *import* statements at the top of yourscript  ‘file’. Python lets you put them anywhere, but it is a not a good idea.**\n",
    "\n",
    "When you import a module, Python makes a special separate *namespace* where the tools from that module live. In order to access them, you must tell Python to look in that namespace by attaching the name of the module, followed by a period.\n",
    "\n",
    "The turtle module provides tools for creating a window and drawing a turtle that moves around in that window. To do that, we need access to two kinds of *objects*: Screens and Turtles. To create one of these objects, we call a function whose name is the object's type, followed by parentheses containing and required inputs. Note that Screen and Turtle do not have any required inputs.\n",
    "\n",
    "Put the following into your cell below and run it:\n",
    "\n",
    "    window = turtle.Screen()\n",
    "\n",
    "    myTurtle = turtle.Turtle()"
   ]
  },
  {
   "cell_type": "code",
   "execution_count": 1,
   "metadata": {
    "collapsed": false
   },
   "outputs": [],
   "source": [
    "import turtle\n"
   ]
  },
  {
   "cell_type": "markdown",
   "metadata": {},
   "source": [
    "You have merely created 2 objects at this point. This is enough code to open up a window where a turtle will eventually be drawing. Make sure that you find that separate window on your computer desktop and observe what it looks like. To close it and try more code, you will need to restart the notebook kernel by clicking the button in the menubar with the circular arrow on it. Make sure you do that now before going on.\n",
    "\n",
    "An *object*, in computer science, represents a noun, a thing. It usually has data and actions associated with it. The actions associated with an object are accessed by calling a *method*, which is like a function that belongs to that particular object.\n",
    "\n",
    "A *Screen* is an object that represents the window where the turtle will live. It has methods that allow you to change its appearance, and to close the window when it is clicked on. A Turtle represents the turtle that lives in the window. It has methods that you use to ask the turtle to move, to raise or lower its pen, and to change its color and other attributes.\n",
    "\n",
    "Put the following in your cell above and run it again:\n",
    "\n",
    "    window.bgcolor(\"lavender\")\n",
    "\n",
    "    myTurtle.color(\"blue\")\n",
    "\n",
    "    myTurtle.forward(50)\n",
    "\n",
    "    myTurtle.left(45)\n",
    "\n",
    "    myTurtle.forward(50)\n",
    "\n",
    "    window.exitonclick() ## this last closes the window when user clicks\n",
    "\n",
    "Now go find the window with the turtle in it and observe what it looks like and compare it to your code. When you use that last line of code, you can now click on the turtle graphics window to make it disappear. Before running the full set of code again, you will need to restart the kernel again.\n",
    "\n",
    "**Try this to hand in:** Modify the script you have so far so that myTurtle turns further, angling back toward the left by some angle. Make it draw a triangle of some kind.\n",
    "\n",
    "**Try this to hand in:** Create a new script in the cell below. Make a turtle and set its color using the color method. Use the shape method to change it to the 'turtle' shape. Then write statements to have the turtle trace a five-pointed star. This will require 5 copies of a move forward followed by a turn. Note that the angle of each point in a five-pointed star is 36 degrees.\n",
    "\n",
    "Then, add to your script a second turtle. Use the goto method to move the second turtle to a new location (remembering that (0, 0) is the position where the turtles start). Then have the second turtle draw another five-pointed star, in a different color just after the first turtle has drawn its star."
   ]
  },
  {
   "cell_type": "code",
   "execution_count": null,
   "metadata": {
    "collapsed": true
   },
   "outputs": [],
   "source": [
    "#### Put your new work described above here"
   ]
  },
  {
   "cell_type": "markdown",
   "metadata": {},
   "source": [
    "## The for loop\n",
    "\n",
    "To avoid repeated typing, and the change for errors to creep in, we use loops to tell the computer to repeat some actions. The for loop in Python is very convenient. It has a very specific syntax:\n",
    "\n",
    "    for *var* in *sequence*:\n",
    "\n",
    "         *statements to be repeated (indented)*\n",
    "\n",
    "The word after for must be a variable name. This special variable is the *loop variable*. The next word must be in, and then we must specify a list of values.\n",
    "\n",
    "Consider the script below, which causes the background color to change with each turtle movement. Copy this script into your answer file and try it out."
   ]
  },
  {
   "cell_type": "code",
   "execution_count": null,
   "metadata": {
    "collapsed": true
   },
   "outputs": [],
   "source": [
    "import turtle\n",
    "import time\n",
    "\n",
    "# create objects\n",
    "wind = turtle.Screen()\n",
    "turt = turtle.Turtle()\n",
    "time.sleep(6) #you will have 6 seconds to go find your window\n",
    "\n",
    "# set the window color and move the turtle, then wait\n",
    "wind.bgcolor(\"pink\")\n",
    "turt.forward(200)\n",
    "turt.right(180)\n",
    "time.sleep(2) #wait 2 seconds\n",
    "\n",
    "wind.bgcolor(\"light green\")\n",
    "turt.forward(200)\n",
    "turt.right(180)\n",
    "time.sleep(2)\n",
    "\n",
    "wind.bgcolor(\"yellow\")\n",
    "turt.forward(200)\n",
    "turt.right(180)\n",
    "time.sleep(2)\n",
    "\n",
    "wind.bgcolor(\"tan\")\n",
    "turt.forward(200)\n",
    "turt.right(180)\n",
    "\n",
    "\n",
    "wind.exitonclick()\n",
    "\n"
   ]
  },
  {
   "cell_type": "markdown",
   "metadata": {},
   "source": [
    "We can simplify this by doing the following (try this):"
   ]
  },
  {
   "cell_type": "code",
   "execution_count": null,
   "metadata": {
    "collapsed": false
   },
   "outputs": [],
   "source": [
    "import turtle\n",
    "import time\n",
    "\n",
    "wind = turtle.Screen()\n",
    "turt = turtle.Turtle()\n",
    "time.sleep(6) #you will have 6 seconds to go find your window\n",
    "\n",
    "for backColor in ['pink', 'light green', 'yellow', 'tan']:\n",
    "    wind.bgcolor(backColor)\n",
    "    turt.forward(200)\n",
    "    turt.right(180)\n",
    "    time.sleep(2)\n",
    "\n",
    "wind.exitonclick()"
   ]
  },
  {
   "cell_type": "markdown",
   "metadata": {},
   "source": [
    "Remember that if you want to re-run this cell, your will have to restart the 'kernel'.\n",
    "\n",
    "## Repeating\n",
    "Often we simply want to repeat some action a fixed number of times. Using the range function will help us with that:"
   ]
  },
  {
   "cell_type": "code",
   "execution_count": 1,
   "metadata": {
    "collapsed": true
   },
   "outputs": [],
   "source": [
    "import turtle\n",
    "import time\n",
    "\n",
    "wind = turtle.Screen()\n",
    "turt = turtle.Turtle()\n",
    "time.sleep(6) #you will have 6 seconds to go find your window\n",
    "\n",
    "wind.bgcolor(\"light green\")\n",
    "\n",
    "for reps in range(20):\n",
    "    turt.forward(200)\n",
    "    turt.right(180)\n",
    "\n",
    "wind.exitonclick()"
   ]
  },
  {
   "cell_type": "markdown",
   "metadata": {},
   "source": [
    "**Try this to hand in:** If you did not use a for loop for the star scripts above, make a copy of each script and redo it with a for loop now."
   ]
  },
  {
   "cell_type": "code",
   "execution_count": null,
   "metadata": {
    "collapsed": true
   },
   "outputs": [],
   "source": []
  },
  {
   "cell_type": "markdown",
   "metadata": {},
   "source": [
    "**Try this to hand in:** Make a new script that will create a turtle and have it draw a large equilateral triangle, using a for loop to repeat the movements. In a regular polygon (equal sides and equal angles) the sum of the angles the turtle should turn must add up to 360 degrees (the turtle ends up back where it started, facing the same direction). Thus for an equilateral triangle, the turtle should turn 120 degrees each time. "
   ]
  },
  {
   "cell_type": "code",
   "execution_count": null,
   "metadata": {
    "collapsed": true
   },
   "outputs": [],
   "source": []
  },
  {
   "cell_type": "markdown",
   "metadata": {},
   "source": [
    "When you have the triangle drawn, add a call to the begin_fill method (like the one below), just before the for loop, and a call to the end_fill method after the end of the for loop (if you do not indent the line, then it will take place after the for loop is over).\n",
    "\n",
    "    turt.begin_fill()\n",
    "\n",
    "...\n",
    "\n",
    "    turt.end_fill()\n",
    "\n",
    "These commands make the turtle fill in the shape it outlines.\n",
    "\n",
    "## Optional challenge question\n",
    "**try this if you get this far:**\n",
    "Make a copy of the previous script, and generalize it. A regular polygon with *n* sides has exterior angles that add up to 360 degrees. Thus the turtle can make a regular polygon by moving forward a fixed amount, and then turning consistently left by $\\frac{360}{n}$ degrees. Modify the earlier script to define a variable n at the top of the script. Use n to indicate how many times the loop should repeat. And use (360 / n) to help compute how far the turtle should turn after each movement."
   ]
  }
 ],
 "metadata": {
  "kernelspec": {
   "display_name": "Python [Root]",
   "language": "python",
   "name": "Python [Root]"
  },
  "language_info": {
   "codemirror_mode": {
    "name": "ipython",
    "version": 3
   },
   "file_extension": ".py",
   "mimetype": "text/x-python",
   "name": "python",
   "nbconvert_exporter": "python",
   "pygments_lexer": "ipython3",
   "version": "3.5.2"
  }
 },
 "nbformat": 4,
 "nbformat_minor": 0
}
