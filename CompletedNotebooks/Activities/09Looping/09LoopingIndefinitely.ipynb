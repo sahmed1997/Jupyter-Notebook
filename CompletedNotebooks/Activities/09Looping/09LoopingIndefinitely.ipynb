{
 "cells": [
  {
   "cell_type": "markdown",
   "metadata": {},
   "source": [
    "# Looping Indefinitely: while loops\n",
    "\n",
    "\n",
    "## Overview\n",
    "\n",
    "This activity will introduce you to another kind of loop, one that can repeat for an indefinite number of times. You have seen simple examples of these when working with input and output in the GPIO devices. The short activity will demonstrate some other uses of loops.\n",
    "\n",
    "### while Loops\n",
    "\n",
    "A while loop starts with a Boolean test expression, and then has a block of indented Python statements in its body. As long as the test expression evaluates to True, the program keeps repeating the statements in the loop body, and then re-checking the test expression. It stops only when the test evaluates to False.\n",
    "\n",
    "    while test-expression:\n",
    "      loop-body\n",
    "\n",
    "In a for loop the loop variable is very obvious; it is declared as a part of the main line of the loop. The while loop also must have a loop variable, but sometimes it is harder to figure out. It actually follows the accumulator patterns, very often.\n",
    "\n",
    "There are typically at least three statements involved in the loop that related to the loop variable:\n",
    "\n",
    "- A statement assigning the loop variable to an initial value before the loop\n",
    "- The boolean expression that controls the loop, comparing the loop variable to something\n",
    "- A statement inside the loop that modifies the value of the loop variable\n",
    "\n",
    "In the example below, the loop variable is count. It is initialized to 1 in the first line, it is compared to total in the boolean test of the while loop, and it is incremented in the\n",
    "last line inside the while loop.\n"
   ]
  },
  {
   "cell_type": "code",
   "execution_count": null,
   "metadata": {
    "collapsed": false
   },
   "outputs": [],
   "source": [
    "count = 1           # initialize loop variable\n",
    "total = 20\n",
    "while count <= total:             #test the loop variable\n",
    "  print(count, total - count + 1)\n",
    "  count = count + 1               #update the loop variable"
   ]
  },
  {
   "cell_type": "markdown",
   "metadata": {},
   "source": [
    "The functions below, containing while loops, are included in the whileloops.py file. Take a look at each function and try it on a small input value. Walk through the function by hand and predict its behavior. Then try running it on some sample inputs. Use the debugger to step through the loop one line at a time, watching how the variables change.\n",
    "\n",
    "### First example\n",
    "\n",
    "This function takes in an integer input, and it prints every other number from that input value down to zero. Then it prints Done!.\n",
    "\n",
    "What happens when you put a typical value into this function? What happens if you put a negative value into the function? What happens if you change the boolean test to be x >= 5?\n"
   ]
  },
  {
   "cell_type": "code",
   "execution_count": null,
   "metadata": {
    "collapsed": false
   },
   "outputs": [],
   "source": [
    "# ====================================================\n",
    "# Simple while loop examples\n",
    "\n",
    "\"\"\"One input x: must be an integer >= 0. \n",
    "    Prints every other value from x down to zero\"\"\"\n",
    "def printEveryOther(x):\n",
    "    while x >= 0:      # x is the loop variable\n",
    "        print(x)\n",
    "        x = x - 2\n",
    "    # when indentation stops, while loop is over\n",
    "    print(\"Done!\")\n",
    "\n",
    "#=========================================   main\n",
    "if __name__ == '__main__':\n",
    "    print(\"------------------------------\")\n",
    "    print(\"Sample calls to printEveryOther:\")\n",
    "    print(\"printEveryOther(11) does:\")\n",
    "    printEveryOther(11)\n",
    "    print(\"printEveryOther(4) does:\")\n",
    "    printEveryOther(4)"
   ]
  },
  {
   "cell_type": "markdown",
   "metadata": {},
   "source": [
    "**Try this to hand in:** Make a copy of printEveryOther function, called printEveryFifth, that prints every fifth value from x down to zero. Below are a couple of sample calls to show how this function should work:\n",
    "\n",
    "    >>> printEveryFifth(20)\n",
    "    20\n",
    "    15\n",
    "    10\n",
    "    5\n",
    "    0\n",
    "    Done!\n",
    "    >>> printEveryFifth(11)\n",
    "    11\n",
    "    6\n",
    "    1\n",
    "    Done!"
   ]
  },
  {
   "cell_type": "code",
   "execution_count": null,
   "metadata": {
    "collapsed": false
   },
   "outputs": [],
   "source": [
    "def printEveryFifth(x):\n",
    "    while x >= 0:\n",
    "        print(x)\n",
    "        x = x - 5\n",
    "    print(\"Done!\")\n",
    "    \n",
    "printEveryFifth(26)"
   ]
  },
  {
   "cell_type": "markdown",
   "metadata": {},
   "source": [
    "### Second example\n",
    "\n",
    "The next example shows the indeterminate nature of a while loop. In this case, the loop repeats until the user enters a negative number, printing the square of each number the user enters.\n",
    "\n",
    "\n",
    "**Try this to hand in:** Notice that the first two lines of the function are repeated again inside the while loop. Why is that? What happens if we comment out either the pair before the loop or the pair inside the loop?\n",
    "\n",
    "Answer: If we comment out the first pair, there will be no predefined loop variable. So when we run the program, it won't be able to find the local variable 'userNum'. On the other hand, if we comment out the second pair, the loop variable, userNum, is not updated, so the loop continues to run indefinitely, printing the square of the first input.\n",
    "\n"
   ]
  },
  {
   "cell_type": "code",
   "execution_count": null,
   "metadata": {
    "collapsed": false
   },
   "outputs": [],
   "source": [
    "\"\"\"Reads in numbers from the user, stopping when the user\n",
    "    enters a negative number. For each user number, it prints the\n",
    "    number and the square of the number.\"\"\"\n",
    "def squareUserNums():\n",
    "    userInp = input(\"Enter the next number (negative to quit): \")\n",
    "    userNum = int(userInp)\n",
    "    while userNum >= 0:\n",
    "        print(userNum, \"squared is\", userNum ** 2)\n",
    "        userInp = input(\"Enter the next number (negative to quit): \")\n",
    "        userNum = int(userInp)\n",
    "\n",
    "if __name__ == '__main__':\n",
    "    print(\"------------------------------\")\n",
    "    print(\"Sample call to squareUserNums:\")\n",
    "    squareUserNums()"
   ]
  },
  {
   "cell_type": "markdown",
   "metadata": {},
   "source": [
    "### Accumulator variables\n",
    "\n",
    "We can use accumulator variables with while loops just like we do with for loops. The accumulator is set to some initial value before the loop, and then updated each time through the loop. See the examples below.\n",
    "\n",
    "Add a call inside the loop to print the values of currVal and total and watch how the values of currVal and total change.\n",
    "\n"
   ]
  },
  {
   "cell_type": "code",
   "execution_count": null,
   "metadata": {
    "collapsed": true
   },
   "outputs": [],
   "source": [
    "def sumToN(topNum):\n",
    "    \"\"\"Takes in a number and computes and returns the sum of the numbers\n",
    "    from zero to the input number.\"\"\"\n",
    "    currVal = 0  # loop variable\n",
    "    total = 0    # accumulator variable\n",
    "    while currVal <= topNum:\n",
    "        total = total + currVal\n",
    "        currVal = currVal + 1\n",
    "    return total\n",
    "\n",
    "if __name__ == '__main__':\n",
    "    print(\"------------------------------\")\n",
    "    print(\"Sample calls to sumToN:\")\n",
    "    print(\"sumToN(3) does:\")\n",
    "    print(sumToN(3))\n",
    "    print(\"sumToN(100) does:\")\n",
    "    print(sumToN(100))"
   ]
  },
  {
   "cell_type": "markdown",
   "metadata": {},
   "source": [
    "**Try this to hand in:** Write a function addUserNums that takes no arguments. This function will be similar to both squareUserNums and sumToN above, so use them as models. At the start of the function, initialize an accumulator variable to hold the sum of numbers the user enters. Each time through the loop, ask the user for a number and add it to the accumulator variable. When the user enters a negative number, the loop should quit, and the function should return the value of the accumulator variable."
   ]
  },
  {
   "cell_type": "code",
   "execution_count": null,
   "metadata": {
    "collapsed": false
   },
   "outputs": [],
   "source": [
    "def addUserNums():\n",
    "    inputNum = int(input(\"Enter a number: \"))\n",
    "    accVal = 0\n",
    "    while inputNum >= 0:\n",
    "        accVal = inputNum + accVal\n",
    "        inputNum = int(input(\"Enter a number: \"))\n",
    "    return accVal\n",
    "\n",
    "if __name__ == '__main__':\n",
    "    print(addUserNums())"
   ]
  },
  {
   "cell_type": "markdown",
   "metadata": {},
   "source": [
    "### The break Statement\n",
    "\n",
    "Sometimes you want the option to stop looping if special circumstances occur, before the natural end of the loop. The break statement causes the current loop to stop immediately at the point where the break occurred. The program continues on with any Python statements that come after the loop.\n",
    "\n",
    "The program below loops over characters in a string, adding them to an accumulator variable. It breaks out of the for loop when the next character is a space, tab, or newline, and returns the string it has built so far.\n",
    "\n"
   ]
  },
  {
   "cell_type": "code",
   "execution_count": null,
   "metadata": {
    "collapsed": false
   },
   "outputs": [],
   "source": [
    "\"\"\"Takes in a string of text and builds and returns a new string\n",
    "    that is the next \"word\" in the text. In other words, the next sequence\n",
    "    of characters up to a space, tab, or newline.\"\"\"\n",
    "def nextWord(text):\n",
    "    wordStr = \"\"\n",
    "    i = 0\n",
    "    for ch in text:\n",
    "        if ch in \" \\t\\n\":\n",
    "            break\n",
    "        else:\n",
    "            wordStr = wordStr + ch\n",
    "    return wordStr\n",
    "\n",
    "if __name__ == '__main__':\n",
    "    print(\"------------------------------\")\n",
    "    print(\"Sample calls to nextWord:\")\n",
    "    print(\"nextWord('Friends, Romans, countrymen') does:\")\n",
    "    print(nextWord('Friends, Romans, countrymen'))\n",
    "    print(\"nextWord('Bananas and apples') does:\")\n",
    "    print(nextWord('Bananas and apples'))\n",
    "    print(\"nextWord('Frederick!') does:\")\n",
    "    print(nextWord('Frederick!'))"
   ]
  },
  {
   "cell_type": "markdown",
   "metadata": {},
   "source": [
    "**Try this to hand in:** We're going to rewrite the squareUserNums function from earlier to avoid repeating the two lines that get the next number from the user. To do so, we will use a common (if sometimes disparaged) pattern: while True combined with break.\n",
    "\n",
    "The definition of squareUserNums from earlier is below, with its name changed to squareUserNums2. Remove the two lines before the while loop. Change the test of the while statement to be just the boolean value True, as shown below:\n",
    "\n",
    "    def squareUserNums2():\n",
    "      while True:\n",
    "        ...\n",
    "\n",
    "Using True as the test expression is a way to create a loop that never ends. Inside the loop, we can use a conditional to break out of the loop when conditions are right.\n",
    "\n",
    "Next you'll move around the pieces inside the while loop, and add an if statement:\n",
    "- Inside the while loop in squareUserNums, move the last two lines (where userInp and userNum are defined) to the start of the while loop body. \n",
    "- After those two lines, and before the print call, add an if statement: \n",
    "\n",
    "        If userNum is less than zero, then break.\n",
    "\n",
    "This function should behave just like the earlier one, but without the copied lines."
   ]
  },
  {
   "cell_type": "code",
   "execution_count": null,
   "metadata": {
    "collapsed": false
   },
   "outputs": [],
   "source": [
    "\"\"\"Reads in numbers from the user, stopping when the user\n",
    "    enters a negative number. For each user number, it prints the\n",
    "    number and the square of the number.\"\"\"\n",
    "def squareUserNums2():\n",
    "    while True:\n",
    "        userInp = input(\"Enter the next number (negative to quit): \")\n",
    "        userNum = int(userInp)\n",
    "        if userNum < 0:\n",
    "            break\n",
    "        print(userNum, \"squared is\", userNum ** 2)\n",
    "        \n",
    "if __name__ == '__main__':\n",
    "    squareUserNums2()"
   ]
  }
 ],
 "metadata": {
  "anaconda-cloud": {},
  "kernelspec": {
   "display_name": "Python 3",
   "language": "python",
   "name": "python3"
  },
  "language_info": {
   "codemirror_mode": {
    "name": "ipython",
    "version": 3
   },
   "file_extension": ".py",
   "mimetype": "text/x-python",
   "name": "python",
   "nbconvert_exporter": "python",
   "pygments_lexer": "ipython3",
   "version": "3.4.2"
  }
 },
 "nbformat": 4,
 "nbformat_minor": 0
}
