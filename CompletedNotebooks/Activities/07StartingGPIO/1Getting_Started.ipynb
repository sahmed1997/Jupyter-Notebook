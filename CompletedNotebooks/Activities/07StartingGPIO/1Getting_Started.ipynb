{
 "cells": [
  {
   "cell_type": "markdown",
   "metadata": {},
   "source": [
    "## Getting started with Sunfounder modules\n",
    "\n",
    "The Raspberry Pi has a set of 40 pins called the general purpose IO (GPIO) socket that enables uss to connect many different types of devices, giving them power and giving us the ability to interact with them.\n",
    "\n",
    "We will start by using some fabricated small circuit boards containing these deveices, called **modules**, created by a company called Sunfounder. As our course progresses, you will be able to try most of the ones that came in the kit they provide, and also to consider getting other ones for use in a course project.\n",
    "\n"
   ]
  },
  {
   "cell_type": "markdown",
   "metadata": {},
   "source": [
    "## Using Python 2 now!\n",
    "\n",
    "The Sunfounder company wrote the code that they provide for these modules using Python 2, so at least for the moment we are going to switch to that version of the language. The first major difference you need to be away of is how printing differs in Python 2. Here is an example:"
   ]
  },
  {
   "cell_type": "code",
   "execution_count": 1,
   "metadata": {
    "collapsed": false
   },
   "outputs": [
    {
     "name": "stdout",
     "output_type": "stream",
     "text": [
      "Hello FYC 2016!\n"
     ]
    }
   ],
   "source": [
    "print \"Hello FYC 2016!\""
   ]
  },
  {
   "cell_type": "markdown",
   "metadata": {},
   "source": [
    "Let's see how we can add to this example to make it look more like many programs you will see when you try out the electronic circuit board modules. Run the following code like you did for the code cell above (click in it, then run it). \n",
    "\n",
    "Note that this code below is slightly different than what was decribed in your interactive textbook for using a main function. How does it differ?\n",
    "\n",
    "Edit the code block below to try changing what is printed (leave the double quotes). Run it again.\n"
   ]
  },
  {
   "cell_type": "code",
   "execution_count": 2,
   "metadata": {
    "collapsed": false
   },
   "outputs": [
    {
     "name": "stdout",
     "output_type": "stream",
     "text": [
      "Hello World!\n"
     ]
    }
   ],
   "source": [
    "# This is a comment line that is not code that will run. \n",
    "# The # signifies the start of the comment\n",
    "\n",
    "# This is a declaration of a function\n",
    "def hello():\n",
    "    print \"Hello World!\"\n",
    "\n",
    "# This sets up the place where the program will start running\n",
    "if __name__ == \"__main__\":\n",
    "    hello()     #indented line like this 'calls' the function and executes it"
   ]
  },
  {
   "cell_type": "markdown",
   "metadata": {},
   "source": [
    "## Make a change and run again\n",
    "\n",
    "Now try changing the code *in the above cell* to create another function called goodbye() that prints another bit of text in double quotes (these are called strings). Add a line that calls that function called goodbye() after the the line where hello() is called.\n",
    "\n",
    "## Clearing Output\n",
    "\n",
    "You can clear out the output of that above program by doing either of the following (you used the first :\n",
    "\n",
    "- Use the Cell menu and choose Cell -> All Output -> Clear\n",
    "- Click on the small button to the left of the one labeled CellToolbar (loks like it has a itty bitty keyboard). When the list pops up, choose \"Clear all cells output\"\n",
    "\n",
    "## Looping: running code over and over\n",
    "\n",
    "In this next example we run some code repeatedly until you stop it using the black square icon above in the toolbar. Study the code and the comments about it. Note also how the code inside the while loop uses the function hello from the previous cell. This is a deign feature of these notebooks, but you do have to remember to have run the previous cell.\n",
    "\n",
    "Click your mouse in the code block below and press Ctrl-Enter together on the keyboard. Note that Ctrl-Enter is like hitting the Run icon in the menu bar above. Click on the little black square, or stop button, t stop it."
   ]
  },
  {
   "cell_type": "code",
   "execution_count": 3,
   "metadata": {
    "collapsed": false
   },
   "outputs": [
    {
     "name": "stdout",
     "output_type": "stream",
     "text": [
      "Hello World!\n",
      "Hello World!\n",
      "Hello World!\n",
      "Hello World!\n",
      "Hello World!\n",
      "Hello World!\n",
      "Hello World!\n",
      "Hello World!\n",
      "Hello World!\n",
      "Hello World!\n",
      "Hello World!\n",
      "Hello World!\n",
      "Hello World!\n",
      "Goodbye Cruel World!\n"
     ]
    }
   ],
   "source": [
    "import time\n",
    "\n",
    "def goodbye():\n",
    "    print \"Goodbye Cruel World!\"\n",
    "    \n",
    "def loop():\n",
    "    while True:         #this is how we run something repeatedly\n",
    "        hello()             #say hello\n",
    "        time.sleep(0.5 )    #wait half a second\n",
    "        \n",
    "if __name__ == \"__main__\":\n",
    "    try:\n",
    "        loop()\n",
    "    except KeyboardInterrupt:    #will run goodbye() when you stop it using the black square icon above.\n",
    "        goodbye()"
   ]
  },
  {
   "cell_type": "markdown",
   "metadata": {},
   "source": [
    "# Using the devices from the Sunfounder Kit\n",
    "\n",
    "We are going to experiment with several small devices mounted on miniture circuit boards that have been specially designed to connect to the Raspberry Pi general purpose I/O (GPIO) board using a ribbon cable and a breadboard.\n",
    "\n",
    "We have set up notebooks fwith the code for you to try several of theexamples. If you want to see some more details, you may want te refer to the original examples from Sunfounder :https://www.sunfounder.com/learn/category/sensor-kit-v2-0-for-raspberry-pi-b-plus.html\n",
    "\n",
    "We have kept the numbering in each notebook name the same as the original Sunfounder examples. We do add some extra information about connecting the modules to the board when needed, because the circuit boards don't match the diagrams perfectly. The basic wiring is straightforward for each small board, though, so don't worry!\n",
    "\n",
    "## Setting up the breadboard\n",
    "Start by lining up the red T-shaped board with pins as shown in the following picture. You will need to line up the holes in the breadboard with the pins in the T-shaped board so it looks like the picture. Note that the bottom pins, labeled **GPIO and GPIO21 will go into the slots in the row numbered 20** on the breadboard. (In the picture these are also shown with thier alternate numbers, 39 and 40; We will return to that alternate numbering later.)\n",
    "\n",
    "**Also note that the T connector will not be symmetric on the board:** there will be three open rows of holes on the left and two on the right as you look down from the top.\n",
    "\n",
    "Then connect the ribbon cable to the T-shaped board so the colors in the ribbon line up like the picture (black on the right and brown on the left as you look down).\n",
    "\n",
    "<img src=files/pinout_labels.jpg width=550>\n",
    "\n",
    "Next, connect the other end of the ribbon cable to the GPIO slot in the Raspberry Pi so that the ribbon cable is not twisted and looks like this:\n",
    "\n",
    "<img src=files/RibbonSetup.jpg width=450>\n"
   ]
  },
  {
   "cell_type": "markdown",
   "metadata": {},
   "source": [
    "# Try a module (the little circuit boards)\n",
    "\n",
    "The above simple Python code examples will hopefully help you read and understand parts of the code we provide for you to try out these sample circuit board modules containing electronic devices. *You will want to get used to hitting the stop button with the black box on it for many of them.*\n",
    "\n",
    "There are several modules available to try out. After we all do lesson 1 with an LED light, ach student team will start with one of the ones listed below in Group A and you will rotate through them. When you are finished with one, bring it back to the front table and put it in the correctly numbered spot in the case (though you can keep your LED light module).\n",
    "\n",
    "## We will all do #1 first\n",
    "\n",
    "Go to the browser tab labeled Home and find the notebook file called **A_Sunfounder_Lesson1.pynb**. \n",
    "\n",
    "During this one you will set up the four wires, 2 red and 2 black, shown in the photos above. Those will stay there for the rest of these board modules that you try.\n",
    "\n",
    "Keep your LED light module for now- they are used with group A modules below.\n",
    "\n",
    "## Group A: we will try one of these next tim\n",
    "### These use the LED from lesson 1, but the wiring changes\n",
    "\n",
    "Next you will work in teams on some of the other modules from Sunfounder.\n",
    "\n",
    "- Sunfounder #6\n",
    "- Sunfounder #24\n",
    "- Sunfounder #11\n",
    "- Sunfounder #12\n",
    "\n",
    "## Group B: other interesting ones to try even later\n",
    "\n",
    "- Sunfounder #25\n",
    "- Sunfounder #30\n",
    "- Sunfounder #9\n",
    "- Sunfounder #10\n",
    "\n",
    "\n",
    "## The rest\n",
    "\n",
    "There are other Sunfounder Lessons that you may eventually try out. **EXCEPT DO NOT TRY:**\n",
    "\n",
    "- Sunfounder #28\n",
    "- Sunfounder #3\n",
    "- Sunfounder #4\n",
    "- Sunfounder #31\n",
    "- Sunfounder #33\n",
    "\n",
    "We might be able to try a few of these, but they require care, or in some cases they don't seem to work. So we will hold off on them for now."
   ]
  }
 ],
 "metadata": {
  "kernelspec": {
   "display_name": "Python 2",
   "language": "python",
   "name": "python2"
  },
  "language_info": {
   "codemirror_mode": {
    "name": "ipython",
    "version": 2
   },
   "file_extension": ".py",
   "mimetype": "text/x-python",
   "name": "python",
   "nbconvert_exporter": "python",
   "pygments_lexer": "ipython2",
   "version": "2.7.9"
  }
 },
 "nbformat": 4,
 "nbformat_minor": 0
}
