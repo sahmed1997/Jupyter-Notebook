{
 "cells": [
  {
   "cell_type": "markdown",
   "metadata": {},
   "source": [
    "# Basic Python: Let's get started coding!\n",
    "\n",
    "## Overview\n",
    "\n",
    "Today you will learn a bit about Python, and some basic kinds of data Python can manipulate. You'll learn how to store values in variables, and how to build expressions that can be evaluated to produce a value. You will learn how to put sequences of Python statements and expressions in a file, called a script, which can be saved and re-run at a later point.\n",
    "\n",
    "## Python\n",
    "\n",
    "Python provides an interactive shell that we use to communicate with it, much like a calculator provides an interface that we use to communicate with it. With Python, you can type a series of Python statements into the shell, and get immediate responses to each one. You can also package up a series of statements as a script, in a file. When you run the script, Python executes each statement in order.\n",
    "\n",
    "## Jupyter Notebook and Python Scripts\n",
    "\n",
    "You are reading this inside a web-based tool called Jupyter Notebook, which provides different sections, called cells. Some have formatted text, like this cell you are reading right now. Other cells let you edit and execute Python code scripts, like the one just below this paragraph. A cell that runs code is distingushed by the odd tag to its left with the word In followed by square brackets, [], sometimes with a number in side the brackets, and colon, : .\n"
   ]
  },
  {
   "cell_type": "code",
   "execution_count": 3,
   "metadata": {
    "collapsed": false
   },
   "outputs": [
    {
     "data": {
      "text/plain": [
       "25"
      ]
     },
     "execution_count": 3,
     "metadata": {},
     "output_type": "execute_result"
    }
   ],
   "source": [
    "5**2"
   ]
  },
  {
   "cell_type": "markdown",
   "metadata": {},
   "source": [
    "This code cell above contains what we call a simple Python *expression* that can be evaluated. To do this, place your cursor in the cell by clicking in it (this should place a green box around it- that is your indicator that it has 'focus'). Then hold down the control key and hit enter while still holding the control key (then let go of each key). What happened?\n",
    "\n",
    "You should see another section appear in this cell labeled Out [1]:, follwed by a 7 (the result of adding 5 + 2). Note that you can never edit this portion, which we call the output from running the input code in the In []: portion of the cell, which you can edit.\n",
    "\n",
    "### Another way to run the code\n",
    "Make sure that you have clicked in the In []: portion above and this time hit the button in the menu above that has a triangle with a line right next to it. This is a run button. What is slightly different about running it this way?\n",
    "\n",
    "## Try these examples\n",
    "In the code cell below (currently empty) try typing each of the following lines in, executing after you add each line. Please type each line yourself on a new line, then hit control-enter after each one. Typing each one, rather than cutting and pasting, gets you used to using these cells and what happens when you run it.\n",
    "\n",
    "|Python Code line| What it does|\n",
    "|----------------|-------------|\n",
    "|20 + 9 | computes the sum of two numbers|\n",
    "|x = 100 | assigns the value 100 to the variable x|\n",
    "|(2 * x) - 33 | computes the value $2x - 33$|\n",
    "|2 \\*\\* 4 | computes the value $2^4$  (the \\*\\* operator is for exponentiation)|\n",
    "|z = (x - (5 * 4)) | assigns the value of the expression to the right of the equals sign to a variable z|\n",
    "|print(10 * 3, x, z) | prints the value of each expression (separated by commas) on a single line|\n",
    "|str = 'Hello there' | assigns variable str to have the *string* of letters inside the quotes|\n",
    "|print(str) | prints out the value of the string in variable str |\n"
   ]
  },
  {
   "cell_type": "code",
   "execution_count": 17,
   "metadata": {
    "collapsed": false
   },
   "outputs": [
    {
     "ename": "IndentationError",
     "evalue": "expected an indented block (<ipython-input-17-7bdfcc49ffcc>, line 3)",
     "output_type": "error",
     "traceback": [
      "\u001b[1;36m  File \u001b[1;32m\"<ipython-input-17-7bdfcc49ffcc>\"\u001b[1;36m, line \u001b[1;32m3\u001b[0m\n\u001b[1;33m    {\u001b[0m\n\u001b[1;37m    ^\u001b[0m\n\u001b[1;31mIndentationError\u001b[0m\u001b[1;31m:\u001b[0m expected an indented block\n"
     ]
    }
   ],
   "source": [
    "\n"
   ]
  },
  {
   "cell_type": "markdown",
   "metadata": {},
   "source": [
    "### Take Note\n",
    "What did you observe as you entered these lines? You could make some notes for youself in this cell if you wish by double-clicking in it.\n",
    "\n",
    "How does that coloring help you read the lines of code?\n",
    "\n",
    "#### Your notes here:\n"
   ]
  },
  {
   "cell_type": "markdown",
   "metadata": {},
   "source": [
    "## A tiny, yet real program\n",
    "What follows in the next cell is a **script** of Python code that resembles real programs that you will write. From your previous work you should now expect that only the lines with the print statements will generate output when you run it. Read each line of Python code and look closely at the output after you run it. It is important for you to be able to develop the skill of working through what each line does and knowing exactly why the output looks the way it does."
   ]
  },
  {
   "cell_type": "code",
   "execution_count": 11,
   "metadata": {
    "collapsed": false
   },
   "outputs": [
    {
     "name": "stdout",
     "output_type": "stream",
     "text": [
      "To bike 420 miles,  50 miles per day,\n",
      " takes 8.4 days.\n"
     ]
    }
   ],
   "source": [
    "tripDist = 420 # total miles in the trip\n",
    "bikePerDay = 50 # miles you can bicycle in a day\n",
    "tripDays = tripDist / bikePerDay\n",
    "print(\"To bike\", tripDist, \"miles, \", bikePerDay, \"miles per day,\")\n",
    "print(\" takes\", tripDays, \"days.\")"
   ]
  },
  {
   "cell_type": "markdown",
   "metadata": {},
   "source": [
    "## Debugging Programs\n",
    "Below you will find five programs. Each has a bug of some kind in it.\n",
    "\n",
    "Just like a paper you write must be proofread to find typos, you must find all errors in your scripts. But because you are communicating with a machine, not a person, you have to be exact: the computer cannot understand you at all if there are errors, bugs, in your code.\n",
    "\n",
    "It is also important that you learn to read code, and to predict what will happen when you run the code. Just like learning a human language, you must learn to read if you want to learn to write!\n",
    "\n",
    "Your reading talked about three kinds of errors in a program: syntax errors, runtime errors, and semantic errors. Look at each of the scripts and find and correct the bug or bugs in it (there may be more than one way to correct it). Determine which types of errors are in each one; note the type of error by adding a comment line to the code.\n",
    "\n"
   ]
  },
  {
   "cell_type": "markdown",
   "metadata": {},
   "source": [
    "### Script A"
   ]
  },
  {
   "cell_type": "code",
   "execution_count": 20,
   "metadata": {
    "collapsed": false
   },
   "outputs": [
    {
     "name": "stdout",
     "output_type": "stream",
     "text": [
      "2.0\n"
     ]
    }
   ],
   "source": [
    "# scriptA.py\n",
    "\n",
    "a = 5\n",
    "b = 10\n",
    "c = 20\n",
    "d = b / a\n",
    "print(d)"
   ]
  },
  {
   "cell_type": "markdown",
   "metadata": {},
   "source": [
    "### Script B"
   ]
  },
  {
   "cell_type": "code",
   "execution_count": 24,
   "metadata": {
    "collapsed": false
   },
   "outputs": [
    {
     "name": "stdout",
     "output_type": "stream",
     "text": [
      "3 4 10\n"
     ]
    }
   ],
   "source": [
    "# scriptB.py\n",
    "\n",
    "x = 3\n",
    "y = 4\n",
    "z = 10\n",
    "print(x, y, z)"
   ]
  },
  {
   "cell_type": "markdown",
   "metadata": {},
   "source": [
    "### Script C"
   ]
  },
  {
   "cell_type": "code",
   "execution_count": 30,
   "metadata": {
    "collapsed": false
   },
   "outputs": [
    {
     "name": "stdout",
     "output_type": "stream",
     "text": [
      "113.0\n"
     ]
    }
   ],
   "source": [
    "# This program converts celsius to fahrenheit\n",
    "\n",
    "celsTemp = 45\n",
    "fraction = 9/5\n",
    "fahrTemp = (celsTemp * fraction) + 32\n",
    "print(fahrTemp)"
   ]
  },
  {
   "cell_type": "markdown",
   "metadata": {},
   "source": [
    "### Script D"
   ]
  },
  {
   "cell_type": "code",
   "execution_count": 33,
   "metadata": {
    "collapsed": false
   },
   "outputs": [
    {
     "name": "stdout",
     "output_type": "stream",
     "text": [
      "56.0\n",
      "goodbye\n"
     ]
    }
   ],
   "source": [
    "#scriptD.py\n",
    "\n",
    "a = 5\n",
    "b = 10\n",
    "c = 7\n",
    "d = 16\n",
    "print((a * d) / (b / c))\n",
    "print('goodbye')"
   ]
  },
  {
   "cell_type": "markdown",
   "metadata": {},
   "source": [
    "### Script E"
   ]
  },
  {
   "cell_type": "code",
   "execution_count": 34,
   "metadata": {
    "collapsed": false
   },
   "outputs": [
    {
     "name": "stdout",
     "output_type": "stream",
     "text": [
      "apples apples apples\n"
     ]
    }
   ],
   "source": [
    "# scriptE.py\n",
    "\n",
    "strng = \"apples\"\n",
    "print(strng, strng, strng)"
   ]
  },
  {
   "cell_type": "markdown",
   "metadata": {},
   "source": [
    "## Consider this\n",
    "Which type of error is hardest to find in a program?"
   ]
  },
  {
   "cell_type": "markdown",
   "metadata": {},
   "source": [
    "## Create your own script\n",
    "\n",
    "Suppose I want to plant a garden bed with flowers. Each flower must sit in the middle of a 6 inch by 6 inch square to ensure it has enough room to grow (if next to another flower, it should be 6 inches away). Because I am obsessive about order, I want the flowers laid out in a perfect grid: rows and columns. If my garden bed was 10 feet long, and 2 feet wide, how many flowers would I need to buy to make my grid?\n",
    "\n",
    "You can compute how many rows of flowers will fit in the bed, and how many columns for each row. Then multiply out to find the total number of flowers.\n",
    "\n",
    "Define a variable **bedLen** to hold the value 10 (the length in feet of my garden bed), and define variable **bedWidth** to be the value 2 (the width in feet of my garden bed). Then write a Python expression to calculate how many rows of flowers will fit in the bed, and how many columns of flowers. Define variables to hold each of these values. Then compute and print the total number of flowers.\n",
    "\n",
    "Put these Python statements into a new script in the cell below. Run the script, and use the tools from earlier sections to debug your program until it computes the right value.\n",
    "\n",
    "Change bedLen to be 30 and bedWidth to be 1.5, and test your program. Does it still print the right result? Keep working at it until it works for any reasonable length and width."
   ]
  },
  {
   "cell_type": "code",
   "execution_count": 43,
   "metadata": {
    "collapsed": false
   },
   "outputs": [
    {
     "name": "stdout",
     "output_type": "stream",
     "text": [
      "Enter length of flower bed in feet: 10\n",
      "Enter width of flower bed in feet: 2\n",
      "Total number of flowers:  105.0\n"
     ]
    }
   ],
   "source": [
    "## A program to determine how many flowers for a given garden bed\n",
    "\n",
    "bedLen = (float(input('Enter length of flower bed in feet: ')))*12\n",
    "bedWidth = (float(input('Enter width of flower bed in feet: ')))*12\n",
    "rowFlwrs = (bedLen // 6)+1\n",
    "colFlwrs = (bedWidth // 6)+1\n",
    "print('Total number of flowers: ',rowFlwrs * colFlwrs)\n",
    "\n"
   ]
  }
 ],
 "metadata": {
  "anaconda-cloud": {},
  "kernelspec": {
   "display_name": "Python 3",
   "language": "python",
   "name": "python3"
  },
  "language_info": {
   "codemirror_mode": {
    "name": "ipython",
    "version": 3
   },
   "file_extension": ".py",
   "mimetype": "text/x-python",
   "name": "python",
   "nbconvert_exporter": "python",
   "pygments_lexer": "ipython3",
   "version": "3.4.2"
  }
 },
 "nbformat": 4,
 "nbformat_minor": 0
}
