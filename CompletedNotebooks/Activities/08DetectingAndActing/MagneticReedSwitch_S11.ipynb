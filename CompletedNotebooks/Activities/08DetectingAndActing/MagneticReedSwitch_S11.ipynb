{
 "cells": [
  {
   "cell_type": "markdown",
   "metadata": {},
   "source": [
    "# Sunfounder Kit Lesson 11: Reed Switch\n",
    "\n",
    "A Reed switch is used to detect the presence of a magnetic field. In this lesson it is used to control a dual color LED but it can be used to control many other things (in both hardware and software)\n",
    "\n",
    "## The Setup\n",
    "Connect the switch as shown below.\n",
    "\n",
    "**Note: do not trust the color of the wires or the relative position of the pins as guides since it is likely that they will not match the real sensor. For example, in the case of the dual color LED the \"R\" and \"GND\" pins are switched**\n",
    "\n",
    "<img src=files/11_Reed_switch_bb.png width=650>'\n",
    "\n",
    "## The Code"
   ]
  },
  {
   "cell_type": "code",
   "execution_count": null,
   "metadata": {
    "collapsed": true
   },
   "outputs": [],
   "source": [
    "import RPi.GPIO as GPIO\n",
    "\n",
    "ReedPin = 11\n",
    "Gpin    = 12\n",
    "Rpin    = 13\n",
    "\n",
    "def setup():\n",
    "    GPIO.setmode(GPIO.BOARD)       # Numbers GPIOs by physical location\n",
    "    GPIO.setup(Gpin, GPIO.OUT)     # Set Green Led Pin mode to output\n",
    "    GPIO.setup(Rpin, GPIO.OUT)     # Set Red Led Pin mode to output\n",
    "    GPIO.setup(ReedPin, GPIO.IN, pull_up_down=GPIO.PUD_UP)    # Set BtnPin's mode is input, and pull up to high level(3.3V)\n",
    "    GPIO.add_event_detect(ReedPin, GPIO.BOTH, callback=detect, bouncetime=200)\n",
    "\n",
    "def Led(x):\n",
    "    if x == 0:\n",
    "        GPIO.output(Rpin, 1)\n",
    "        GPIO.output(Gpin, 0)\n",
    "    if x == 1:\n",
    "        GPIO.output(Rpin, 0)\n",
    "        GPIO.output(Gpin, 1)\n",
    "\n",
    "def Print(x):\n",
    "    if x == 0:\n",
    "        print '    ***********************************'\n",
    "        print '    *   Detected Magnetic Material!   *'\n",
    "        print '    ***********************************'\n",
    "\n",
    "def detect(chn):\n",
    "    Led(GPIO.input(ReedPin))\n",
    "    Print(GPIO.input(ReedPin))\n",
    "\n",
    "def loop():\n",
    "    while True:\n",
    "        pass\n",
    "\n",
    "def destroy():\n",
    "    GPIO.output(Gpin, GPIO.HIGH)       # Green led off\n",
    "    GPIO.output(Rpin, GPIO.HIGH)       # Red led off\n",
    "    GPIO.cleanup()                     # Release resource"
   ]
  },
  {
   "cell_type": "code",
   "execution_count": null,
   "metadata": {
    "collapsed": false
   },
   "outputs": [],
   "source": [
    "if __name__ == '__main__':     # Program start from here\n",
    "    setup()\n",
    "    try:\n",
    "        loop()\n",
    "    except KeyboardInterrupt:  # When 'Ctrl+C' is pressed, the child program destroy() will be  executed.\n",
    "        destroy()"
   ]
  },
  {
   "cell_type": "markdown",
   "metadata": {
    "collapsed": true
   },
   "source": [
    "## Try it\n",
    "\n",
    "Run each cell and then bring a magnet near the Reed switch module.\n",
    "\n",
    "Note that devices such as magnetic card door openers can use this principle."
   ]
  }
 ],
 "metadata": {
  "kernelspec": {
   "display_name": "Python 2",
   "language": "python",
   "name": "python2"
  },
  "language_info": {
   "codemirror_mode": {
    "name": "ipython",
    "version": 2
   },
   "file_extension": ".py",
   "mimetype": "text/x-python",
   "name": "python",
   "nbconvert_exporter": "python",
   "pygments_lexer": "ipython2",
   "version": "2.7.9"
  }
 },
 "nbformat": 4,
 "nbformat_minor": 0
}
