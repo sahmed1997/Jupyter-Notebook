{
 "cells": [
  {
   "cell_type": "markdown",
   "metadata": {},
   "source": [
    "# Sunfounder Kit Lesson 25: Ultrasonic Ranging Module\n",
    "\n",
    "The ultrasonic sensor is useful to measure distances of about 2 cm to up to 3 m. It works by producing an ultrasonic sound pulse and then waits for to hear for the echo. The module will produce a high output for a time period that is proportional to the distance to the object. Given the speed of sound in air (340 m / s) a simple mathematical function is required to convert this time to a distance:\n",
    "\n",
    "$$\n",
    "\\begin{align}\n",
    "d &= t_h * c / 2\\\\\n",
    "&\\text{where:}\\\\\n",
    "d &= \\text{distance to object}\\\\\n",
    "t_h &= \\text{time the pin was high}\\\\\n",
    "c &= \\text{speed of sound in air} = 340 \\text{ m/s}\n",
    "\\end{align}\n",
    "$$\n",
    "\n",
    "It is required to divide by two because the ouput pin becomes high as soon as the sound is emitted and only stops when the signal is received back, thus the pin is high while the signal travels *to* and *from* the object, or double the distance.\n",
    "\n",
    "This sensor has some limitations. If the target object does not have a solid, smooth face it might return an erronous distance. Similarly if the object is not aimed perpendicular to the sensor. Sharp angles will bounce the sound signal away and the sensor won't be able to hear the bounced sound.\n",
    "\n",
    "## The Setup\n",
    "\n",
    "This module does not have an oriented connector for the pins so you must be really careful when wiring it. Do not use colors as guides, instead make sure that the vcc, gnd, echo and trig pins are connected to the corresponding GPIOs. Follow the example from the image below\n",
    "\n",
    "<img src=files/25_Ultrasonic_Ranging_bb.png width=650>"
   ]
  },
  {
   "cell_type": "markdown",
   "metadata": {},
   "source": [
    "## The Code"
   ]
  },
  {
   "cell_type": "code",
   "execution_count": null,
   "metadata": {
    "collapsed": true
   },
   "outputs": [],
   "source": [
    "import RPi.GPIO as GPIO\n",
    "import time\n",
    "\n",
    "TRIG = 11\n",
    "ECHO = 12\n",
    "\n",
    "def setup():\n",
    "        GPIO.setmode(GPIO.BOARD)\n",
    "        GPIO.setup(TRIG, GPIO.OUT)\n",
    "        GPIO.setup(ECHO, GPIO.IN)\n",
    "\n",
    "def distance():\n",
    "        GPIO.output(TRIG, 0)\n",
    "        time.sleep(0.000002)\n",
    "\n",
    "        GPIO.output(TRIG, 1)\n",
    "        time.sleep(0.00001)\n",
    "        GPIO.output(TRIG, 0)\n",
    "\n",
    "        \n",
    "        while GPIO.input(ECHO) == 0:\n",
    "                a = 0\n",
    "        time1 = time.time()\n",
    "        while GPIO.input(ECHO) == 1:\n",
    "                a = 1\n",
    "        time2 = time.time()\n",
    "\n",
    "        during = time2 - time1\n",
    "        return during * 340 / 2 * 100\n",
    "\n",
    "def loop():\n",
    "        while True:\n",
    "                dis = distance()\n",
    "                print dis, 'cm'\n",
    "                print ''\n",
    "                time.sleep(0.3)\n",
    "\n",
    "def destroy():\n",
    "        GPIO.cleanup()"
   ]
  },
  {
   "cell_type": "code",
   "execution_count": null,
   "metadata": {
    "collapsed": false
   },
   "outputs": [],
   "source": [
    "if __name__ == \"__main__\":\n",
    "        setup()\n",
    "        try:\n",
    "                loop()\n",
    "        except KeyboardInterrupt:\n",
    "                destroy()"
   ]
  },
  {
   "cell_type": "markdown",
   "metadata": {
    "collapsed": true
   },
   "source": [
    "## Try it\n",
    "\n",
    "Run the firts code cell, then the second. fter you run the second code cell with the main program, get an object with a flat surface and hold it in front of the sensor. Move it back and forth to see if the distance changes.Does it seem accurate?"
   ]
  },
  {
   "cell_type": "markdown",
   "metadata": {},
   "source": [
    "## Can you add the dual-color LED?\n",
    "\n",
    "Try experimenting with the red-green LED light with this one. Start with the light being green, and turn it too red when an obstacle gets too close. You can decide what too close might be. (You will need to know how to use if statements for this exercise.)\n",
    "\n",
    "Place your new code below (don't lose the working code above)."
   ]
  },
  {
   "cell_type": "code",
   "execution_count": null,
   "metadata": {
    "collapsed": true
   },
   "outputs": [],
   "source": []
  }
 ],
 "metadata": {
  "kernelspec": {
   "display_name": "Python 2",
   "language": "python",
   "name": "python2"
  },
  "language_info": {
   "codemirror_mode": {
    "name": "ipython",
    "version": 2
   },
   "file_extension": ".py",
   "mimetype": "text/x-python",
   "name": "python",
   "nbconvert_exporter": "python",
   "pygments_lexer": "ipython2",
   "version": "2.7.9"
  }
 },
 "nbformat": 4,
 "nbformat_minor": 0
}
