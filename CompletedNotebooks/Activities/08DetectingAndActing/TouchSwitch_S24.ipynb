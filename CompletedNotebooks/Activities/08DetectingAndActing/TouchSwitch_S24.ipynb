{
 "cells": [
  {
   "cell_type": "markdown",
   "metadata": {},
   "source": [
    "# Sunfounder Lesson 24: Touch-sensitive switch\n",
    "\n",
    "This example uses two module boards: a touch-sensitive swith and the dual-color LED. Once connected. the running code will let you touch the switch and see the LED toggle colors from green (on) to red(off).\n",
    "\n",
    "## The wiring setup\n",
    "As when you used the dual-color LED on its own, with our 3-wire connectors, the black wire is ground (GND), the yellow wire is for red (R) and the red wire is for green (G).\n",
    "\n",
    "<img src=files/24_Touch_Switch_bb.png width=650>\n",
    "\n",
    "Even without running the code below, if you have it wired correctly, you shuld see the light on the touch sensor board go on and of as you touch the swirl pattern on the board.\n",
    "\n",
    "## The code\n",
    "This code is also Python 2 code (because of the print statements). This notebook should be set to use the Python 2 'kernel'.\n",
    "\n",
    "Hit escape key then L (lowercase ell) to see line numbers in the code.\n",
    "\n",
    "## TO DO\n",
    "Do some research and determine what line 15 is doing. Discuss it in your group and then write below here what is happening. ASk Libby to come overe and discuss it with you.\n",
    "\n"
   ]
  },
  {
   "cell_type": "code",
   "execution_count": null,
   "metadata": {
    "collapsed": false
   },
   "outputs": [],
   "source": [
    "#!/usr/bin/env python\n",
    "import RPi.GPIO as GPIO\n",
    "\n",
    "TouchPin = 11\n",
    "Gpin   = 12\n",
    "Rpin   = 13\n",
    "\n",
    "tmp = 0\n",
    "\n",
    "def setup():\n",
    "\tGPIO.setmode(GPIO.BOARD)       # Numbers GPIOs by physical location\n",
    "\tGPIO.setup(Gpin, GPIO.OUT)     # Set Green Led Pin mode to output\n",
    "\tGPIO.setup(Rpin, GPIO.OUT)     # Set Red Led Pin mode to output\n",
    "    # What is the following line doing?\n",
    "\tGPIO.setup(TouchPin, GPIO.IN, pull_up_down=GPIO.PUD_UP)    # Set BtnPin's mode is input, and pull up to high level(3.3V)\n",
    "\n",
    "def Led(x):\n",
    "\tif x == 0:\n",
    "\t\tGPIO.output(Rpin, 1)\n",
    "\t\tGPIO.output(Gpin, 0)\n",
    "\tif x == 1:\n",
    "\t\tGPIO.output(Rpin, 0)\n",
    "\t\tGPIO.output(Gpin, 1)\n",
    "\t\n",
    "\n",
    "def Print(x):\n",
    "\tglobal tmp\n",
    "\tif x != tmp:\n",
    "\t\tif x == 0:\n",
    "\t\t\tprint '    **********'\n",
    "\t\t\tprint '    *     ON *'\n",
    "\t\t\tprint '    **********'\n",
    "\t\n",
    "\t\tif x == 1:\n",
    "\t\t\tprint '    **********'\n",
    "\t\t\tprint '    * OFF    *'\n",
    "\t\t\tprint '    **********'\n",
    "\t\ttmp = x\n",
    "\n",
    "def loop():\n",
    "\twhile True:\n",
    "\t\tLed(GPIO.input(TouchPin))\n",
    "\t\tPrint(GPIO.input(TouchPin))\n",
    "\n",
    "def destroy():\n",
    "\tGPIO.output(Gpin, GPIO.HIGH)       # Green led off\n",
    "\tGPIO.output(Rpin, GPIO.HIGH)       # Red led off\n",
    "\tGPIO.cleanup()                     # Release resource\n",
    "\n",
    "if __name__ == '__main__':     # Program start from here\n",
    "\tsetup()\n",
    "\ttry:\n",
    "\t\tloop()\n",
    "\texcept KeyboardInterrupt:  # When 'Ctrl+C' is pressed, the child program destroy() \n",
    "                                # will be  executed.\n",
    "\t\tdestroy()\n",
    "\n"
   ]
  },
  {
   "cell_type": "markdown",
   "metadata": {},
   "source": [
    "## Resetting the output\n",
    "After you stop running this example, if you want to clear the output from running the code in the cell above, you can get rid of the out put by choosing the Cell menu, then current outputs, then clear."
   ]
  }
 ],
 "metadata": {
  "kernelspec": {
   "display_name": "Python 2",
   "language": "python",
   "name": "python2"
  },
  "language_info": {
   "codemirror_mode": {
    "name": "ipython",
    "version": 2
   },
   "file_extension": ".py",
   "mimetype": "text/x-python",
   "name": "python",
   "nbconvert_exporter": "python",
   "pygments_lexer": "ipython2",
   "version": "2.7.9"
  }
 },
 "nbformat": 4,
 "nbformat_minor": 0
}
