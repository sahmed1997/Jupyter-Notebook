{
 "cells": [
  {
   "cell_type": "markdown",
   "metadata": {},
   "source": [
    "# Sunfounder Kit Lesson 9: IR Receiver"
   ]
  },
  {
   "cell_type": "markdown",
   "metadata": {},
   "source": [
    "## The Setup\n",
    "Connect the `sig`, `vcc` and `gnd` pins as shown in the diagram below\n",
    "\n",
    "<img src=files/09_IR_Receiver_bb.png width=650>\n",
    "\n",
    "## Additional information\n",
    "\n",
    "Please see the [Sunfounder pag about this module](https://www.sunfounder.com/wiki/index.php?title=IR_Receiver_Module), and look also at the data sheet for it linked on this page. You will need to download the pdf (it will go into your Downloads directory). Then open it with the pdf viewer, which is in the accessories in your menu.\n",
    "\n",
    "**TO DO:** After you have tried this code, look at the above information to see if you can determine how these counts are being generated. Don't be too concerned at this point if you can't answer this.\n",
    "\n",
    "## Possible later projects\n",
    "A good project is to explore the use of the IR remote and the IR sensor. The first step in doing this would be to look at [an additional Sunfounder project, #23](https://www.sunfounder.com/learn/sensor-kit-v2-0-for-raspberry-pi-b-plus/lesson-23-ir-remote-control-sensor-kit-v2-0-for-b-plus.html). This requires setup of an additional library to use with the given code. There are likely other projects from additional kits that you could explore also."
   ]
  },
  {
   "cell_type": "markdown",
   "metadata": {},
   "source": [
    "## The Code\n",
    "When you run the code below, the console will print the number of IR pulses the detector receives.\n",
    "\n",
    "Use the accompanying remote control to see what the count is when you push a button. Is there any correlation between button and count? Try changing how far you are from the sensor when you use the remote.\n",
    "\n",
    "Keep clearing the output and run each cell as you try different buttons and distances."
   ]
  },
  {
   "cell_type": "code",
   "execution_count": null,
   "metadata": {
    "collapsed": false
   },
   "outputs": [],
   "source": [
    "#!/usr/bin/env python\n",
    "import RPi.GPIO as GPIO\n",
    "IrPin = 11\n",
    "count = 0\n",
    "def setup():\n",
    "    GPIO.setmode(GPIO.BOARD) # Numbers GPIOs by physical location\n",
    "    GPIO.setup(IrPin, GPIO.IN, pull_up_down=GPIO.PUD_UP)\n",
    "    \n",
    "def cnt(ev=None):\n",
    "    global count\n",
    "    count += 1\n",
    "    print('Received infrared. cnt = ', count)\n",
    "\n",
    "def loop():\n",
    "    GPIO.add_event_detect(IrPin, GPIO.FALLING, callback=cnt) # wait for falling\n",
    "    while True:\n",
    "        pass # Don't do anything\n",
    "\n",
    "def destroy():\n",
    "    GPIO.cleanup() # Release resource"
   ]
  },
  {
   "cell_type": "code",
   "execution_count": null,
   "metadata": {
    "collapsed": false,
    "scrolled": false
   },
   "outputs": [],
   "source": [
    "if __name__ == '__main__': # Program start from here\n",
    "    setup()\n",
    "    try:\n",
    "        loop()\n",
    "    except KeyboardInterrupt: # When 'Ctrl+C' is pressed, the child program destroy() will be executed.\n",
    "        destroy()"
   ]
  },
  {
   "cell_type": "markdown",
   "metadata": {},
   "source": [
    "## Try adding the dual-color LED\n",
    "\n",
    "It is theoretically possible to add the dual-color LED light and have it flip from red to green when IR light is detected, just like the touch sensor and the button. Look at the code for those and try adding this capability."
   ]
  },
  {
   "cell_type": "code",
   "execution_count": null,
   "metadata": {
    "collapsed": true
   },
   "outputs": [],
   "source": []
  }
 ],
 "metadata": {
  "kernelspec": {
   "display_name": "Python 3",
   "language": "python",
   "name": "python3"
  },
  "language_info": {
   "codemirror_mode": {
    "name": "ipython",
    "version": 3
   },
   "file_extension": ".py",
   "mimetype": "text/x-python",
   "name": "python",
   "nbconvert_exporter": "python",
   "pygments_lexer": "ipython3",
   "version": "3.4.2"
  }
 },
 "nbformat": 4,
 "nbformat_minor": 0
}
