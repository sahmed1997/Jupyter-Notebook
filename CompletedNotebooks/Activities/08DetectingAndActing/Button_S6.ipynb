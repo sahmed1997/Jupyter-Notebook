{
 "cells": [
  {
   "cell_type": "markdown",
   "metadata": {},
   "source": [
    "## Sunfounder Lesson 6: Button Module\n",
    "\n",
    "We can use a button to control the dual-color LED light.\n",
    "\n",
    "## The setup\n",
    "Note that the wiring for the LED is different from lesson 1. This is so that we can add the button control to it.\n",
    "\n",
    "<img src=files/06_Button_bb.png width=650>\n",
    "\n",
    "## The Code\n",
    "When you run this, the LED will turn green as you press the button and hold it. When you release the button, the LED will turn red.\n",
    "\n",
    "Hit escape key then L (lowercase ell) to see line numbers in the code.\n",
    "\n",
    "## TO DO\n",
    "Do some research and determine what line 15 is doing. Discuss it in your group and then write below here what is happening. ASk Libby to come overe and discuss it with you.\n",
    "\n",
    "Looking at the main function, we can deduce not all the functions in the program are being explicity called upon. Insetad, what we believe is happening is that the main function calls setup which has the command \"GPIO.add_event_detect which is an in built function that comes with RPI.GPIO. The add_event_detect command takes four inputs and calls the function, which is mentioned as equal to callback (in this case callback = detect). In this case, detect, then, calls the Led and Print function which are in our code, but not called from the main function.\n"
   ]
  },
  {
   "cell_type": "code",
   "execution_count": null,
   "metadata": {
    "collapsed": false
   },
   "outputs": [],
   "source": [
    "#!/usr/bin/env python\n",
    "import RPi.GPIO as GPIO\n",
    "\n",
    "BtnPin = 11\n",
    "Gpin   = 12\n",
    "Rpin   = 13\n",
    "\n",
    "def setup():\n",
    "\tGPIO.setmode(GPIO.BOARD)       # Numbers GPIOs by physical location\n",
    "\tGPIO.setup(Gpin, GPIO.OUT)     # Set Green Led Pin mode to output\n",
    "\tGPIO.setup(Rpin, GPIO.OUT)     # Set Red Led Pin mode to output\n",
    "\tGPIO.setup(BtnPin, GPIO.IN, pull_up_down=GPIO.PUD_UP)    # Set BtnPin's mode is input, and pull up to high level(3.3V)\n",
    "    \n",
    "# This next function is new. Research and discover what it does.\n",
    "\tGPIO.add_event_detect(BtnPin, GPIO.BOTH, callback=detect, bouncetime=200)\n",
    "\n",
    "def Led(x):\n",
    "\tif x == 0:\n",
    "\t\tGPIO.output(Rpin, 1)\n",
    "\t\tGPIO.output(Gpin, 0)\n",
    "\tif x == 1:\n",
    "\t\tGPIO.output(Rpin, 0)\n",
    "\t\tGPIO.output(Gpin, 1)\n",
    "\n",
    "def Print(x):\n",
    "\tif x == 0:\n",
    "\t\tprint '    ***********************'\n",
    "\t\tprint '    *   Button Pressed!   *'\n",
    "\t\tprint '    ***********************'\n",
    "\n",
    "def detect(chn):\n",
    "\tLed(GPIO.input(BtnPin))\n",
    "\tPrint(GPIO.input(BtnPin))\n",
    "\n",
    "def loop():\n",
    "\twhile True:\n",
    "\t\tpass\n",
    "\n",
    "def destroy():\n",
    "\tGPIO.output(Gpin, GPIO.HIGH)       # Green led off\n",
    "\tGPIO.output(Rpin, GPIO.HIGH)       # Red led off\n",
    "\tGPIO.cleanup()                     # Release resource\n",
    "\n",
    "if __name__ == '__main__':     # Program start from here\n",
    "\tsetup()\n",
    "\ttry:\n",
    "\t\tloop()\n",
    "\texcept KeyboardInterrupt:  # When 'Ctrl+C' is pressed, the child program destroy() will be  executed.\n",
    "\t\tdestroy()\n",
    "\n"
   ]
  }
 ],
 "metadata": {
  "kernelspec": {
   "display_name": "Python 2",
   "language": "python",
   "name": "python2"
  },
  "language_info": {
   "codemirror_mode": {
    "name": "ipython",
    "version": 2
   },
   "file_extension": ".py",
   "mimetype": "text/x-python",
   "name": "python",
   "nbconvert_exporter": "python",
   "pygments_lexer": "ipython2",
   "version": "2.7.9"
  }
 },
 "nbformat": 4,
 "nbformat_minor": 0
}
