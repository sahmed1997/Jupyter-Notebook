{
 "cells": [
  {
   "cell_type": "markdown",
   "metadata": {},
   "source": [
    "# Using and manipulating lists\n",
    "\n",
    "## Overview\n",
    "\n",
    "\n",
    "Lists are an incredibly versatile data type. They are used in many situations in computer science, and are arguably the most-used data structure in software. This activity will examine some new operators and methods for manipulating lists, as well as reprise some earlier information about lists that you may have forgotten.\n",
    "\n",
    "**Key ideas**: Lists are *mutable*: you can modify an existing list. They can hold any kind of data, including functions, other lists, strings, booleans, etc. **Note**: lists containing lists, or lists of lists, are a key element in your next homework assignment.\n",
    "\n",
    "## Review of Basic List Operations\n",
    "\n",
    "Earlier in the term you learned a number of tools to manipulate lists: the + and * operators, the selection operator (square brackets, used to select a value from the list) and list slicing, and the accumulator pattern for lists. Here you will practice writing functions that operate on lists, so you can review and recall how they work.\n",
    "\n",
    "Note that strings and lists may be indexed from right to left with negative integers: -1 is the index of the rightmost element in a string or list.\n",
    "\n",
    "\n",
    "**Try this to hand in**: Create one or more Python functions that use basic list operations on lists of integers, floats, or strings:\n",
    "\n",
    "- Create a Python function sumPositive that *takes a list of numbers* as its input and returns a number. Your function should use a for loop to iterate over the values in the list. If the number is positive then it should be added to an accumulator variable, whose value will be returned.\n",
    "\n",
    "\n",
    "Use this in the main function in the code cell below, where some example lists have already been created for you.\n",
    "\n",
    "Once you have completed sumPositive(), try adding a list of floating point numbers and using sumPositive() on it.\n",
    "\n",
    "## for loops on lists: repeat n times\n",
    "\n",
    "Note that you can loop through the elements in a list using a for loop:\n",
    "\n",
    "    for element in testList:\n",
    "        print(element)  \n",
    "        #or more realistically do something to the element\n",
    "\n",
    "This is the **repeat n times pattern**, where n is the length of the list.\n",
    "\n",
    "## Using assert statement for testing\n",
    "\n",
    "**Run this code before completing the functions.** Look at the code below in main(), just after the call to sumPositive, which has not been completed and simply returns zero. Note how when you run this cell right now, the *assert* line generates an error. Once sumPositive() is working correctly, the assertion will no longer throw this error.\n",
    "\n",
    "Assert is a very powerful way to test whether your code is working, especially for returned results from functions. Testing functions in this way for correct results is called *unit testing*.\n",
    "\n",
    "## Go on, then come back here\n",
    "\n",
    "Look at the next section, then come back here and add the following function:\n",
    "\n",
    "- Create a Python function everyOther that takes a list as its input. It should build a new list that contains every other value from the original input list. The easiest solution is to use list slicing (look below to see how it works)\n",
    "\n",
    "Continue to add testing to see that you have this function working."
   ]
  },
  {
   "cell_type": "code",
   "execution_count": null,
   "metadata": {
    "collapsed": false
   },
   "outputs": [],
   "source": [
    "\n",
    "\n",
    "\"\"\"sumPositive: given a list of numbers, it returns the sum of all \n",
    "the positive numbers in the original list.\"\"\"\n",
    "def sumPositive(aList):\n",
    "    sum = 0\n",
    "    for a in aList:\n",
    "        if a>0:\n",
    "            sum = sum + a\n",
    "    return sum    #replace this line with the correct accumulator value\n",
    "\n",
    "\"\"\"everyOther: given a list, it returns a list containing every other\n",
    "element in the original input list.\"\"\"\n",
    "def everyOther(aList):\n",
    "    length = len(aList) \n",
    "    newList = aList[0:length:2]  #what is this doing? \n",
    "    return newList    \n",
    "\n",
    "\"\"\"Main function that uses two example functions to test them.\"\"\"\n",
    "def main():\n",
    "    list1 = [2, -5, -22, 14, 16, 8]  #sum of positives should be 40\n",
    "    list1f = [2.5,-5,-22.5,13.5,16.0,8]\n",
    "    list2 = [0, 200, -155, 400, 50, -10] #sum of positives should be 650\n",
    "    # do not use this one below with sumPositive()\n",
    "    list3 = ['computer', 'science', 'is', 'fun', 'and', 'useful']\n",
    "    # do not use this one below with sumPositive()\n",
    "    # This is an example of a list of lists\n",
    "    list4 = [['A', '01'],['B', '1000'],['C', '1010'],['D', '100'], \n",
    "             ['E', '0']]\n",
    "    \n",
    "    ####### put your calls to your two funtions below here\n",
    "    ####### Note how an assert can be used to check a result\n",
    "    sumList1 = sumPositive(list1f)\n",
    "    assert sumList1 == 40, 'sumPositive failed on list1'\n",
    "    sumList2 = sumPositive(list2)\n",
    "    assert sumList2 == 650, 'sumPositive did not work on list2'\n",
    "    everyOtherList1 = everyOther(list3)\n",
    "    assert everyOtherList1 == ['computer','is','and'], 'EPIC FAIL'\n",
    "    everyOtherList2 = everyOther(list4)\n",
    "    assert everyOtherList2 == [['A','01'],['C','1010'],['E','0']], 'EPIC FAIL'\n",
    "    \n",
    "if __name__ == \"__main__\":\n",
    "    main()"
   ]
  },
  {
   "cell_type": "markdown",
   "metadata": {
    "collapsed": true
   },
   "source": [
    "## Modifying Lists\n",
    "\n",
    "\n",
    "Unlike strings, lists can be modified. This is powerful, but can also be dangerous. It means you have to be more careful with lists. If you pass a list to a function, and that function changes the contents of the list, that change is permanent and visible everywhere the list is visible. NOTE: using a for loop to loop over a changing list is a **bad idea!**\n",
    "\n",
    "The basic method for changing lists uses the selection and slicing operators. Try each of the following by running these in the cell below, and look at the contents of testList after each:\n",
    "\n",
    "    testList = [1, 2, 3, 4, 5, 6]\n",
    "    testList[3] = 105    #modify the third element- which one is it?\n",
    "    testList[0] = 99     #modify the zeroth element\n",
    "    # the left-hand side of this next one is called slicing a list\n",
    "    testList[4:6] = [25, 26]  #replace elements 4 and 5 with 2 elements\n",
    "    testList[1:3] = [-5]      #replace elements 1 and 2 with a single element\n",
    "    #len() can be used on lists and strings and other collections\n",
    "    #      to get the number of elements in the collection.\n",
    "    lengthTest = len(testList) \n",
    "    newList = testList[0:len:2]  #what is this doing? \n",
    "\n",
    "Note that some modifications actually change the length of the list. You can also delete elements from a list using the del operator:\n",
    "\n",
    "    del testList[1]\n",
    "    del testList[3:5]\n",
    "\n"
   ]
  },
  {
   "cell_type": "code",
   "execution_count": null,
   "metadata": {
    "collapsed": false
   },
   "outputs": [],
   "source": [
    "#use this space for the above trials on testList, printing after each\n",
    "testList = [1, 2, 3, 4, 5, 6]\n",
    "testList[3] = 105    #modify the third element- which one is it?\n",
    "testList[0] = 99     #modify the zeroth element\n",
    "# the left-hand side of this next one is called slicing a list\n",
    "testList[4:6] = [25, 26]  #replace elements 4 and 5 with 2 elements\n",
    "testList[1:3] = [-5]      #replace elements 1 and 2 with a single element\n",
    "#len() can be used on lists and strings and other collections\n",
    "#      to get the number of elements in the collection.\n",
    "print(testList)\n",
    "lengthTest = len(testList) \n",
    "newList = testList[0:lengthTest:2]  #what is this doing? \n",
    "print(newList)"
   ]
  },
  {
   "cell_type": "markdown",
   "metadata": {},
   "source": [
    "## To Do\n",
    "Given the list of lists below, write some code in the cell below that will:\n",
    "\n",
    "- loop through each element in list4 (each element is a sublist) and print the first (not the zeroth) element of each sublist element.\n",
    "\n",
    "You should be printing '01', '1000', '1010', '100', and '0', one after the other."
   ]
  },
  {
   "cell_type": "code",
   "execution_count": null,
   "metadata": {
    "collapsed": false
   },
   "outputs": [],
   "source": [
    "list4 = [['A', '01'],['B', '1000'],['C', '1010'],['D', '100'], \n",
    "             ['E', '0']]\n",
    "for sub in list4: print(sub[1])"
   ]
  },
  {
   "cell_type": "markdown",
   "metadata": {
    "collapsed": true
   },
   "source": [
    "## More on lists\n",
    "\n",
    "There are many more functions that you can use on lists. Look at [the Python turtorial](https://docs.python.org/3/tutorial/datastructures.html) about them. In Python, these are referred to as methods because the list is treated like an object, and we call a method defined for it by using the dot notation (see the examples below).\n",
    "\n",
    "Below are a few examples. Add some print statements so that you can see what has occured. Comment out the one that causes an error after you figure it out."
   ]
  },
  {
   "cell_type": "code",
   "execution_count": null,
   "metadata": {
    "collapsed": false
   },
   "outputs": [],
   "source": [
    "\n",
    "list1 = [5, 6, 7]\n",
    "list2 = [4, 3, 2, 1]\n",
    "list1.append(8)\n",
    "list2.extend([0, -1])\n",
    "list1.extend([5])   # this should generate an error, why?\n",
    "                  #This generates an error because extend requires list values as input parameters, unlike append\n",
    "list1.insert(0, 4.5)\n",
    "list2.insert(2, 3.5)\n",
    "\n",
    "list1.remove(7)\n",
    "list2.pop(1)\n",
    "list1.index(8)\n",
    "list1.count(5)\n",
    "list1.reverse()\n",
    "list2.sort()\n",
    "print(list1)\n",
    "print(list2)\n"
   ]
  },
  {
   "cell_type": "markdown",
   "metadata": {},
   "source": [
    "## To Do\n",
    "Can you answer these questions:\n",
    "- What is the difference between append and extend?\n",
    "Answer - Append takes non-list values to add to the end of the list whereas extend accepts only lists as input parameters\n",
    "- What is the difference between remove and pop?\n",
    "Answer - Remove removes the first occurence of the input parameter in the list, whereas, pop removes and returns the list element located at the index number given as the input parameter\n",
    "\n",
    "\n",
    "**Try this to hand in**: Create a function removeAll that takes in a value and a list, and it removes all occurrences of the value from the list, without changing the order of the other values in the list. It should modify the list, not build a new list. It does not need to return the list, because it is modifying it. To verify this, print it back out from another function that calls your method, such as a main().\n",
    "\n",
    "**Hint**: the count and remove methods, along with a while loop, might be the way to go.\n"
   ]
  },
  {
   "cell_type": "code",
   "execution_count": null,
   "metadata": {
    "collapsed": false
   },
   "outputs": [],
   "source": [
    "def removeAll(value, aList):\n",
    "    while aList.count(value)>0:\n",
    "        aList.remove(value)\n",
    "\n",
    "if __name__ == \"__main__\":\n",
    "    list1 = [1,2,7,7,4,7,7,3,5,7,6,7]\n",
    "    removeAll(7,list1)\n",
    "    print(list1)"
   ]
  }
 ],
 "metadata": {
  "kernelspec": {
   "display_name": "Python 3",
   "language": "python",
   "name": "python3"
  },
  "language_info": {
   "codemirror_mode": {
    "name": "ipython",
    "version": 3
   },
   "file_extension": ".py",
   "mimetype": "text/x-python",
   "name": "python",
   "nbconvert_exporter": "python",
   "pygments_lexer": "ipython3",
   "version": "3.4.2"
  }
 },
 "nbformat": 4,
 "nbformat_minor": 0
}
